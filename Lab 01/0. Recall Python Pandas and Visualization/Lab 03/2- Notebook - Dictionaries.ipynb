{
 "cells": [
  {
   "cell_type": "markdown",
   "id": "de55ac4d",
   "metadata": {
    "id": "ready-portable"
   },
   "source": [
    "1. **[Introduction to Dictionary](#dictionary)**"
   ]
  },
  {
   "cell_type": "markdown",
   "id": "cad52159",
   "metadata": {
    "id": "popular-squad"
   },
   "source": [
    "## **1. Introduction to Dictionary**                "
   ]
  },
  {
   "cell_type": "markdown",
   "id": "4f187292",
   "metadata": {
    "collapsed": true,
    "id": "attached-hamilton",
    "jupyter": {
     "outputs_hidden": true
    }
   },
   "source": [
    "### **General Syntax of Dictionary:**<br>\n",
    "dictionary_name = {&nbsp;key_1: value_1,<br>\n",
    "&nbsp;&nbsp;&nbsp;&nbsp;&nbsp;&nbsp;&nbsp;&nbsp;&nbsp;&nbsp;&nbsp;&nbsp;&nbsp;&nbsp;&nbsp;&nbsp;&nbsp;&nbsp;&nbsp;&nbsp;&nbsp;&nbsp;&nbsp;&nbsp;&nbsp;&nbsp;&nbsp;&nbsp;&nbsp;&nbsp;&nbsp;&nbsp;                   key_2: value_2,<br>\n",
    "&nbsp;&nbsp;&nbsp;&nbsp;&nbsp;&nbsp;&nbsp;&nbsp;&nbsp;&nbsp;&nbsp;&nbsp;&nbsp;&nbsp;&nbsp;&nbsp;&nbsp;&nbsp;&nbsp;&nbsp;&nbsp;&nbsp;&nbsp;&nbsp;&nbsp;&nbsp;&nbsp;&nbsp;&nbsp;&nbsp;&nbsp;&nbsp;                    key_3: value_3,<br>\n",
    "&nbsp;&nbsp;&nbsp;&nbsp;&nbsp;&nbsp;&nbsp;&nbsp;&nbsp;&nbsp;&nbsp;&nbsp;&nbsp;&nbsp;&nbsp;&nbsp;&nbsp;&nbsp;&nbsp;&nbsp;&nbsp;&nbsp;&nbsp;&nbsp;&nbsp;&nbsp;&nbsp;&nbsp;&nbsp;&nbsp;&nbsp;&nbsp;                    }"
   ]
  },
  {
   "cell_type": "markdown",
   "id": "c6c9593b",
   "metadata": {
    "collapsed": true,
    "id": "foreign-hours",
    "jupyter": {
     "outputs_hidden": true
    }
   },
   "source": [
    "### **Create a Dictionary**\n",
    "Separate keys from values with a colon(:), and a pair from another by a comma(,). Put it all in curly braces."
   ]
  },
  {
   "cell_type": "code",
   "execution_count": 2,
   "id": "04167eeb",
   "metadata": {
    "id": "thousand-sherman",
    "outputId": "4e0742eb-ec2c-4fcb-a3a9-eef665e8ca40"
   },
   "outputs": [
    {
     "name": "stdout",
     "output_type": "stream",
     "text": [
      "{'Moon': 83847, 'John': 83837, 'Jill': 94766}\n"
     ]
    }
   ],
   "source": [
    "# Create a dictionary\n",
    "balance = {\n",
    "    \"Moon\" : 83847,\n",
    "    \"John\" : 83837,\n",
    "    \"Jill\" : 94766\n",
    "}\n",
    "print(balance)"
   ]
  },
  {
   "cell_type": "markdown",
   "id": "34b3d836",
   "metadata": {
    "id": "vocal-shirt"
   },
   "source": [
    "### **Accessing Items**\n",
    "You can access the items of a dictionary by referring to its key name, inside square brackets."
   ]
  },
  {
   "cell_type": "code",
   "execution_count": 5,
   "id": "f10491bc",
   "metadata": {
    "id": "attractive-senator",
    "outputId": "f502a0e1-2066-402d-c8de-a254afc9ae78"
   },
   "outputs": [
    {
     "data": {
      "text/plain": [
       "83847"
      ]
     },
     "execution_count": 5,
     "metadata": {},
     "output_type": "execute_result"
    }
   ],
   "source": [
    "# Get the value of \"Moon\" key\n",
    "x = balance[\"Moon\"]\n",
    "x"
   ]
  },
  {
   "cell_type": "markdown",
   "id": "2848727c",
   "metadata": {
    "id": "domestic-enzyme"
   },
   "source": [
    "We can use get method to get the value of \"Moo\" key."
   ]
  },
  {
   "cell_type": "code",
   "execution_count": 6,
   "id": "da1d0a46",
   "metadata": {
    "id": "incomplete-apple",
    "outputId": "88863638-315b-477f-a6a7-a5b724db66fc"
   },
   "outputs": [
    {
     "data": {
      "text/plain": [
       "83847"
      ]
     },
     "execution_count": 6,
     "metadata": {},
     "output_type": "execute_result"
    }
   ],
   "source": [
    "x = balance.get(\"Moon\")\n",
    "x"
   ]
  },
  {
   "cell_type": "markdown",
   "id": "d8c02efe",
   "metadata": {
    "id": "north-applicant"
   },
   "source": [
    "### **Change Values**\n",
    "You can change the value of a specific element by referring to its key name."
   ]
  },
  {
   "cell_type": "code",
   "execution_count": 7,
   "id": "1108ae3e",
   "metadata": {
    "id": "decimal-blackjack",
    "outputId": "ce152557-4b17-46a6-c30b-afd504fae8bf"
   },
   "outputs": [
    {
     "data": {
      "text/plain": [
       "{2015: 34500, 2016: 34300, 2017: 40000}"
      ]
     },
     "execution_count": 7,
     "metadata": {},
     "output_type": "execute_result"
    }
   ],
   "source": [
    "# Create a dictionary\n",
    "year_sales = {\n",
    "  2015: 34500,\n",
    "  2016: 34300,\n",
    "  2017: 40000\n",
    "}\n",
    "\n",
    "year_sales"
   ]
  },
  {
   "cell_type": "code",
   "execution_count": 12,
   "id": "8d450ce9",
   "metadata": {
    "id": "dangerous-russell",
    "outputId": "6c1c275b-404c-4477-ea77-e7b0a026d597"
   },
   "outputs": [
    {
     "data": {
      "text/plain": [
       "{2015: 45000, 2016: 34300, 2017: 40000}"
      ]
     },
     "execution_count": 12,
     "metadata": {},
     "output_type": "execute_result"
    }
   ],
   "source": [
    "# Change the sales figure for 2015\n",
    "year_sales[2015] = 45000\n",
    "\n",
    "year_sales"
   ]
  },
  {
   "cell_type": "markdown",
   "id": "d5fb10c9",
   "metadata": {
    "id": "challenging-wages"
   },
   "source": [
    "### **Dictionary Length**"
   ]
  },
  {
   "cell_type": "code",
   "execution_count": 13,
   "id": "aa19506f",
   "metadata": {
    "id": "cordless-classroom",
    "outputId": "76f6b17f-c08b-4a57-f8ef-4cd2674fc02a"
   },
   "outputs": [
    {
     "name": "stdout",
     "output_type": "stream",
     "text": [
      "3\n"
     ]
    }
   ],
   "source": [
    "# Print the length of dictionary\n",
    "print(len(year_sales))"
   ]
  },
  {
   "cell_type": "markdown",
   "id": "e82e2fdc",
   "metadata": {
    "id": "advanced-award"
   },
   "source": [
    "### **Adding Items**<br>\n",
    "Adding an item to the dictionary is done by using a new index key and assigning a value to it."
   ]
  },
  {
   "cell_type": "code",
   "execution_count": 14,
   "id": "b7d2d957",
   "metadata": {
    "id": "rotary-breed",
    "outputId": "f9596359-e89f-49f7-93a1-633f5e3741f0"
   },
   "outputs": [
    {
     "data": {
      "text/plain": [
       "{2015: 34500, 2016: 34300, 2017: 40000, '2018': 55000}"
      ]
     },
     "execution_count": 14,
     "metadata": {},
     "output_type": "execute_result"
    }
   ],
   "source": [
    "# Create a dictionary\n",
    "year_sales = {\n",
    "  2015: 34500,\n",
    "  2016: 34300,\n",
    "  2017: 40000\n",
    "}\n",
    "\n",
    "year_sales['2018'] = 55000\n",
    "\n",
    "year_sales"
   ]
  },
  {
   "cell_type": "markdown",
   "id": "c25e2b48",
   "metadata": {
    "id": "postal-battery"
   },
   "source": [
    "### **Dictionary Method**"
   ]
  },
  {
   "cell_type": "markdown",
   "id": "cb625c7b",
   "metadata": {
    "id": "enclosed-antibody"
   },
   "source": [
    "**Removing Items**<br>\n",
    "There are several methods to remove items from a dictionary:<br>\n",
    "pop() method<br>\n",
    "popitem() method<br>\n",
    "clear() method<br>\n",
    "del keywords"
   ]
  },
  {
   "cell_type": "markdown",
   "id": "9132ecf2",
   "metadata": {
    "id": "modular-variation"
   },
   "source": [
    "**pop()**<br>\n",
    "The pop() method removes the item with the specified key name."
   ]
  },
  {
   "cell_type": "code",
   "execution_count": 17,
   "id": "a33e92c1",
   "metadata": {
    "id": "metric-roman",
    "outputId": "9ba80a1e-c09c-4336-d7b7-eedd93cd4a19"
   },
   "outputs": [
    {
     "data": {
      "text/plain": [
       "{2016: 34300, 2017: 40000}"
      ]
     },
     "execution_count": 17,
     "metadata": {},
     "output_type": "execute_result"
    }
   ],
   "source": [
    "# Create a dictionary\n",
    "year_sales = {\n",
    "  2015: 34500,\n",
    "  2016: 34300,\n",
    "  2017: 40000\n",
    "}\n",
    "\n",
    "# Remove key from dictionary\n",
    "year_sales.pop(2015)\n",
    "\n",
    "year_sales"
   ]
  },
  {
   "cell_type": "markdown",
   "id": "777aff0f",
   "metadata": {
    "id": "convinced-reaction"
   },
   "source": [
    "**popitem()**<br>\n",
    "The popitem() method removes the last inserted item."
   ]
  },
  {
   "cell_type": "code",
   "execution_count": 18,
   "id": "4c26c72f",
   "metadata": {
    "id": "imperial-welding",
    "outputId": "e29d2264-20da-42b7-be9f-3e9da13c4cd1"
   },
   "outputs": [
    {
     "data": {
      "text/plain": [
       "{2015: 34500, 2016: 34300}"
      ]
     },
     "execution_count": 18,
     "metadata": {},
     "output_type": "execute_result"
    }
   ],
   "source": [
    "# Create a dictionary\n",
    "year_sales = {\n",
    "  2015: 34500,\n",
    "  2016: 34300,\n",
    "  2017: 40000\n",
    "}\n",
    "\n",
    "# Remove last item from the dictionary\n",
    "year_sales.popitem()\n",
    "\n",
    "year_sales"
   ]
  },
  {
   "cell_type": "markdown",
   "id": "fb9fe378",
   "metadata": {
    "id": "nervous-differential"
   },
   "source": [
    "### **del keywords**<br>\n",
    "The del keyword removes the item with the specified key name."
   ]
  },
  {
   "cell_type": "code",
   "execution_count": 19,
   "id": "525a6f68",
   "metadata": {
    "id": "forward-qatar",
    "outputId": "b9eb383a-3032-444b-d755-6221a6179dda"
   },
   "outputs": [
    {
     "data": {
      "text/plain": [
       "{2016: 34300, 2017: 40000}"
      ]
     },
     "execution_count": 19,
     "metadata": {},
     "output_type": "execute_result"
    }
   ],
   "source": [
    "# Create a dictionary\n",
    "year_sales = {\n",
    "  2015: 34500,\n",
    "  2016: 34300,\n",
    "  2017: 40000\n",
    "}\n",
    "\n",
    "# Delete item from the dictionary\n",
    "del year_sales[2015]\n",
    "\n",
    "year_sales"
   ]
  },
  {
   "cell_type": "markdown",
   "id": "a8c619ef",
   "metadata": {
    "id": "sound-short"
   },
   "source": [
    "**clear()**<br>\n",
    "The clear() method empties the dictionary."
   ]
  },
  {
   "cell_type": "code",
   "execution_count": 20,
   "id": "5ed75a10",
   "metadata": {
    "id": "lined-drive",
    "outputId": "eedc1a8c-f3b5-4d75-ba7d-9ca98543d0bb"
   },
   "outputs": [
    {
     "data": {
      "text/plain": [
       "{}"
      ]
     },
     "execution_count": 20,
     "metadata": {},
     "output_type": "execute_result"
    }
   ],
   "source": [
    "# Create a dictionary\n",
    "year_sales = {\n",
    "  2015: 34500,\n",
    "  2016: 34300,\n",
    "  2017: 40000\n",
    "}\n",
    "\n",
    "# Clear the dictionary\n",
    "year_sales.clear()\n",
    "\n",
    "year_sales"
   ]
  },
  {
   "cell_type": "markdown",
   "id": "4fbc35d4",
   "metadata": {
    "id": "muslim-conversion"
   },
   "source": [
    "**sorted()**<br>\n",
    "Return a new sorted list of keys in the dictionary."
   ]
  },
  {
   "cell_type": "code",
   "execution_count": 21,
   "id": "ce923ec3",
   "metadata": {
    "id": "stone-economy",
    "outputId": "56239b55-fa66-4910-e47a-fdad4ff60501"
   },
   "outputs": [
    {
     "data": {
      "text/plain": [
       "[1, 3, 5, 7, 9]"
      ]
     },
     "execution_count": 21,
     "metadata": {},
     "output_type": "execute_result"
    }
   ],
   "source": [
    "Square = {1: 1, 3: 9, 5: 25, 7: 49, 9: 81}\n",
    "sorted(Square)"
   ]
  },
  {
   "cell_type": "markdown",
   "id": "ff11fbda",
   "metadata": {
    "id": "renewable-tours"
   },
   "source": [
    "**update()**<br>\n",
    "We can also add and modify dictionaries by using the dict.update() method."
   ]
  },
  {
   "cell_type": "code",
   "execution_count": 23,
   "id": "c0ecf964",
   "metadata": {
    "id": "divided-contest",
    "outputId": "80360622-3aff-431e-bf66-bad58f4bc466"
   },
   "outputs": [
    {
     "data": {
      "text/plain": [
       "{2015: 34500, 2016: 34300, 2017: 40000, '2015': 'jan'}"
      ]
     },
     "execution_count": 23,
     "metadata": {},
     "output_type": "execute_result"
    }
   ],
   "source": [
    "# Create a dictionary\n",
    "year_sales = {\n",
    "  2015: 34500,\n",
    "  2016: 34300,\n",
    "  2017: 40000\n",
    "}\n",
    "\n",
    "# Update dictionary\n",
    "year_sales.update({'2015':\"jan\"})\n",
    "\n",
    "year_sales"
   ]
  },
  {
   "cell_type": "code",
   "execution_count": 24,
   "id": "3640962f",
   "metadata": {},
   "outputs": [
    {
     "data": {
      "text/plain": [
       "{'name': 'Alice', 'age': 25, 'email': 'alice@example.com'}"
      ]
     },
     "execution_count": 24,
     "metadata": {},
     "output_type": "execute_result"
    }
   ],
   "source": [
    "# Example of dictionary use in practice\n",
    "person_info = {\n",
    "    'name': 'Alice',\n",
    "    'age': 25,\n",
    "    'email': 'alice@example.com'\n",
    "}\n",
    "person_info"
   ]
  },
  {
   "cell_type": "code",
   "execution_count": 26,
   "id": "88b2058d",
   "metadata": {},
   "outputs": [
    {
     "data": {
      "text/plain": [
       "{'person': {'name': 'Alice',\n",
       "  'age': 25,\n",
       "  'address': {'city': 'London', 'country': 'UK'}}}"
      ]
     },
     "execution_count": 26,
     "metadata": {},
     "output_type": "execute_result"
    }
   ],
   "source": [
    "nested_dict = {\n",
    "    'person': {\n",
    "        'name': 'Alice',\n",
    "        'age': 25,\n",
    "        'address': {\n",
    "            'city': 'London',\n",
    "            'country': 'UK'\n",
    "        }\n",
    "    }\n",
    "}\n",
    "nested_dict"
   ]
  },
  {
   "cell_type": "code",
   "execution_count": 28,
   "id": "3569e8f3-0e8c-410c-9c9b-d18d9d0b1a76",
   "metadata": {},
   "outputs": [
    {
     "name": "stdout",
     "output_type": "stream",
     "text": [
      "Field      | Value\n",
      "-------------------------\n",
      "Name       | Alice\n",
      "Age        | 25\n",
      "City       | London\n",
      "Country    | UK\n"
     ]
    }
   ],
   "source": [
    "nested_dict = {\n",
    "    'person': {\n",
    "        'name': 'Alice',\n",
    "        'age': 25,\n",
    "        'address': {\n",
    "            'city': 'London',\n",
    "            'country': 'UK'\n",
    "        }\n",
    "    }\n",
    "}\n",
    "# Print a simple table using string formatting\n",
    "print(f\"{'Field':<10} | {'Value'}\")\n",
    "print(\"-\" * 25)\n",
    "print(f\"{'Name':<10} | {nested_dict['person']['name']}\")\n",
    "print(f\"{'Age':<10} | {nested_dict['person']['age']}\")\n",
    "print(f\"{'City':<10} | {nested_dict['person']['address']['city']}\")\n",
    "print(f\"{'Country':<10} | {nested_dict['person']['address']['country']}\")\n"
   ]
  },
  {
   "cell_type": "code",
   "execution_count": null,
   "id": "2c8fbad9-3c90-47a2-9983-bbd26357bb99",
   "metadata": {},
   "outputs": [],
   "source": []
  }
 ],
 "metadata": {
  "colab": {
   "collapsed_sections": [
    "optional-paintball",
    "labeled-optics",
    "smaller-desktop",
    "female-absolute",
    "awful-tamil",
    "random-rescue"
   ],
   "name": "Reference Notebook - 03.ipynb",
   "provenance": []
  },
  "kernelspec": {
   "display_name": "Python 3 (ipykernel)",
   "language": "python",
   "name": "python3"
  },
  "language_info": {
   "codemirror_mode": {
    "name": "ipython",
    "version": 3
   },
   "file_extension": ".py",
   "mimetype": "text/x-python",
   "name": "python",
   "nbconvert_exporter": "python",
   "pygments_lexer": "ipython3",
   "version": "3.11.7"
  }
 },
 "nbformat": 4,
 "nbformat_minor": 5
}
