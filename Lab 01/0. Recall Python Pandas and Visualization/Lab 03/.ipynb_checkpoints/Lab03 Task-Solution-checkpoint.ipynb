{
 "cells": [
  {
   "cell_type": "markdown",
   "metadata": {
    "id": "h6dDSW5XGZFi"
   },
   "source": [
    "### **`Problem-1:`** Write a Python function that takes a list and returns a new list with unique elements of the first list.\n",
    "\n",
    "**Exercise 1:**\n",
    "\n",
    "Input:\n",
    "\n",
    "```bash\n",
    "[1,2,3,3,3,3,4,5]\n",
    "```\n",
    "\n",
    "Output:\n",
    "\n",
    "```bash\n",
    "[1, 2, 3, 4, 5]\n",
    "```"
   ]
  },
  {
   "cell_type": "code",
   "execution_count": 1,
   "metadata": {
    "id": "R5pq1C9LGe1y"
   },
   "outputs": [
    {
     "name": "stdout",
     "output_type": "stream",
     "text": [
      "[1, 2, 3, 4, 5]\n"
     ]
    }
   ],
   "source": [
    "def unique_elements(input_list):\n",
    "    # Convert the list to a set to remove duplicates\n",
    "    unique_set = set(input_list)\n",
    "    # Convert the set back to a list\n",
    "    unique_list = list(unique_set)\n",
    "    return unique_list\n",
    "# Example usage:\n",
    "input_list = [1, 2, 3, 3, 3, 3, 4, 5]\n",
    "print(unique_elements(input_list))\n"
   ]
  },
  {
   "cell_type": "markdown",
   "metadata": {
    "id": "UxQ_VoyJGwHj"
   },
   "source": [
    "### **`Problem-2:`** Write a Python function that accepts a hyphen-separated sequence of words as parameter and returns the words in a space-separated sequence after sorting them alphabetically.\n",
    "\n",
    "**Example 1:**\n",
    "\n",
    "Input:\n",
    "```bash\n",
    "green-red-yellow-black-white\n",
    "```\n",
    "\n",
    "Output:\n",
    "```bash\n",
    "black-green-red-white-yellow\n",
    "```\n",
    "```bash\n",
    "black green red white yellow\n",
    "```"
   ]
  },
  {
   "cell_type": "code",
   "execution_count": 6,
   "metadata": {
    "id": "AAts2m5zGwiQ"
   },
   "outputs": [
    {
     "name": "stdout",
     "output_type": "stream",
     "text": [
      "black-green-red-white-yellow\n"
     ]
    }
   ],
   "source": [
    "# Write code here\n",
    "def sort_hyphenated_sequence(sequence):\n",
    "    # Split the input sequence into a list of words\n",
    "    words = sequence.split('-')\n",
    "    # Sort the list of words alphabetically\n",
    "    sorted_words = sorted(words)\n",
    "    # Join the sorted words back into a hyphen-separated string\n",
    "    sorted_sequence = '-'.join(sorted_words)\n",
    "    return sorted_sequence\n",
    "\n",
    "# Example usage:\n",
    "input_sequence = \"green-red-yellow-black-white\"\n",
    "print(sort_hyphenated_sequence(input_sequence))\n"
   ]
  },
  {
   "cell_type": "markdown",
   "metadata": {
    "id": "IRGH62S7Gx_n"
   },
   "source": [
    "### **`Problem 3:`** Write a Python function that accepts a string and calculate the number of upper case letters and lower case letters.\n",
    "\n",
    "```\n",
    "Sample String : 'Coursera task is For EnginEering studentS.'\n",
    "Expected Output :\n",
    "No. of Upper case characters :  \n",
    "No. of Lower case Characters :  \n",
    "```"
   ]
  },
  {
   "cell_type": "code",
   "execution_count": 3,
   "metadata": {
    "id": "OaUrD8vVG5o8"
   },
   "outputs": [
    {
     "name": "stdout",
     "output_type": "stream",
     "text": [
      "No. of Upper case characters : 5\n",
      "No. of Lower case Characters : 31\n"
     ]
    }
   ],
   "source": [
    "# Write code here\n",
    "def count_upper_lower(text):\n",
    "    # Initialize counters for upper and lower case characters\n",
    "    upper_count = 0\n",
    "    lower_count = 0\n",
    "\n",
    "    # Iterate through each character in the string\n",
    "    for char in text:\n",
    "        # Check if the character is an upper case letter\n",
    "        if char.isupper():\n",
    "            upper_count += 1\n",
    "        # Check if the character is a lower case letter\n",
    "        elif char.islower():\n",
    "            lower_count += 1\n",
    "    \n",
    "    # Return the counts of upper and lower case characters\n",
    "    return upper_count, lower_count\n",
    "\n",
    "# Example usage:\n",
    "sample_string = 'Coursera task is For EnginEering studentS.'\n",
    "upper_count, lower_count = count_upper_lower(sample_string)\n",
    "print(\"No. of Upper case characters :\", upper_count)\n",
    "print(\"No. of Lower case Characters :\", lower_count)\n"
   ]
  },
  {
   "cell_type": "markdown",
   "metadata": {
    "id": "V1BFFdYQG7Sn"
   },
   "source": [
    "### **`Problem 4:`** Write a Python program to print the even numbers from a given list.\n",
    "```\n",
    "Sample List : [1, 2, 3, 4, 5, 6, 7, 8, 9]\n",
    "Expected Result : [2, 4, 6, 8]\n",
    "```"
   ]
  },
  {
   "cell_type": "code",
   "execution_count": 4,
   "metadata": {
    "id": "VvAReLoDG_Z3"
   },
   "outputs": [
    {
     "name": "stdout",
     "output_type": "stream",
     "text": [
      "Even numbers from the given list: [2, 4, 6, 8]\n"
     ]
    }
   ],
   "source": [
    "# Write code here\n",
    "def print_even_numbers(input_list):\n",
    "    # Initialize an empty list to store even numbers\n",
    "    even_numbers = []\n",
    "\n",
    "    # Iterate through each number in the input list\n",
    "    for num in input_list:\n",
    "        # Check if the number is even\n",
    "        if num % 2 == 0:\n",
    "            even_numbers.append(num)\n",
    "    \n",
    "    # Print the list of even numbers\n",
    "    print(\"Even numbers from the given list:\", even_numbers)\n",
    "\n",
    "# Example usage:\n",
    "sample_list = [1, 2, 3, 4, 5, 6, 7, 8, 9]\n",
    "print_even_numbers(sample_list)\n"
   ]
  },
  {
   "cell_type": "markdown",
   "metadata": {
    "id": "oZdpcG77HO-6"
   },
   "source": [
    "### **`Problem-5:`** Write a Python function to concatenate any no of dictionaries to create a new one.\n",
    "\n",
    "```\n",
    "Sample Dictionary :\n",
    "dic1={1:10, 2:20}\n",
    "dic2={3:30, 4:40}\n",
    "dic3={5:50,6:60}\n",
    "Expected Result : {1: 10, 2: 20, 3: 30, 4: 40, 5: 50, 6: 60}\n",
    "```"
   ]
  },
  {
   "cell_type": "code",
   "execution_count": 5,
   "metadata": {
    "id": "LQgfAY4ZHPhj"
   },
   "outputs": [
    {
     "name": "stdout",
     "output_type": "stream",
     "text": [
      "Concatenated Dictionary: {1: 10, 2: 20, 3: 30, 4: 40, 5: 50, 6: 60}\n"
     ]
    }
   ],
   "source": [
    "# Write code here\n",
    "def concatenate_dicts(*dicts):\n",
    "    # Initialize an empty dictionary to store the concatenated result\n",
    "    concatenated_dict = {}\n",
    "    \n",
    "    # Iterate through each dictionary in the input\n",
    "    for d in dicts:\n",
    "        # Update the concatenated dictionary with the key-value pairs from the current dictionary\n",
    "        concatenated_dict.update(d)\n",
    "    \n",
    "    return concatenated_dict\n",
    "\n",
    "# Example usage:\n",
    "dic1 = {1: 10, 2: 20}\n",
    "dic2 = {3: 30, 4: 40}\n",
    "dic3 = {5: 50, 6: 60}\n",
    "\n",
    "result_dict = concatenate_dicts(dic1, dic2, dic3)\n",
    "print(\"Concatenated Dictionary:\", result_dict)\n"
   ]
  },
  {
   "cell_type": "markdown",
   "metadata": {
    "id": "jQ6SzbCkHRd0"
   },
   "source": [
    "### `Problem-6` Write a python function that accepts a string as input and returns the word with most occurence(dictionary format).\n",
    "\n",
    "```\n",
    "Input:\n",
    "hello how are you i am fine thank you\n",
    "```\n",
    "\n",
    "```\n",
    "Output\n",
    "you -> 2\n",
    "```"
   ]
  },
  {
   "cell_type": "code",
   "execution_count": 6,
   "metadata": {
    "id": "Lh04JHLzIW7Z"
   },
   "outputs": [
    {
     "name": "stdout",
     "output_type": "stream",
     "text": [
      "you -> 2\n"
     ]
    }
   ],
   "source": [
    "# Write code here\n",
    "def most_occurred_word(input_string):\n",
    "    # Split the input string into words\n",
    "    words = input_string.split()\n",
    "    \n",
    "    # Initialize a dictionary to store word frequencies\n",
    "    word_count = {}\n",
    "    \n",
    "    # Count the occurrences of each word\n",
    "    for word in words:\n",
    "        if word in word_count:\n",
    "            word_count[word] += 1\n",
    "        else:\n",
    "            word_count[word] = 1\n",
    "    \n",
    "    # Find the word with the maximum occurrence\n",
    "    max_occurred_word = max(word_count, key=word_count.get)\n",
    "    \n",
    "    # Return the word with its occurrence count\n",
    "    return max_occurred_word + \" -> \" + str(word_count[max_occurred_word])\n",
    "\n",
    "# Example usage:\n",
    "input_string = \"hello how are you i am fine thank you\"\n",
    "print(most_occurred_word(input_string))\n"
   ]
  },
  {
   "cell_type": "markdown",
   "metadata": {
    "id": "dHTRKb-DqMLw"
   },
   "source": [
    "### `Problem 7:` Write a Python program to add three given lists using Python map and lambda."
   ]
  },
  {
   "cell_type": "code",
   "execution_count": 7,
   "metadata": {
    "id": "NfJdzyNZqNW-"
   },
   "outputs": [
    {
     "name": "stdout",
     "output_type": "stream",
     "text": [
      "Result of addition: [12, 15, 18]\n"
     ]
    }
   ],
   "source": [
    "# Write code here\n",
    "list1 = [1, 2, 3]\n",
    "list2 = [4, 5, 6]\n",
    "list3 = [7, 8, 9]\n",
    "\n",
    "# Use map and lambda to add corresponding elements from all three lists\n",
    "result = list(map(lambda x, y, z: x + y + z, list1, list2, list3))\n",
    "\n",
    "print(\"Result of addition:\", result)\n"
   ]
  },
  {
   "cell_type": "markdown",
   "metadata": {
    "id": "MgHP7mbUqO8l"
   },
   "source": [
    "### `Problem-8:`Write a Python program to create a list containing the power of said number in bases raised to the corresponding number in the index using Python map.\n",
    "`Input:`\n",
    "```\n",
    "list1 = [1,2,3,4,5,6]\n",
    "```\n",
    "`Output:`\n",
    "```\n",
    "[1,2,9,64,625,-]\n",
    "```\n"
   ]
  },
  {
   "cell_type": "code",
   "execution_count": 11,
   "metadata": {
    "id": "gG3Dc6N3qbvN"
   },
   "outputs": [
    {
     "name": "stdout",
     "output_type": "stream",
     "text": [
      "[1, 2, 9, 64, 625, 7776]\n"
     ]
    }
   ],
   "source": [
    "# Write code here\n",
    "list1 = [1, 2, 3, 4, 5, 6]\n",
    "\n",
    "# Use map and lambda to calculate the power of each number in the list raised to its corresponding index\n",
    "result = list(map(lambda x, y: x ** y, list1,range(len(list1))))\n",
    "\n",
    "# Print the result\n",
    "print(result)\n"
   ]
  },
  {
   "cell_type": "markdown",
   "metadata": {
    "id": "G26SYq6vqdLN"
   },
   "source": [
    "### `Problem-9` Using filter() and list() functions and .lower() method filter all the vowels in a given string.\n",
    "\n"
   ]
  },
  {
   "cell_type": "code",
   "execution_count": 12,
   "metadata": {
    "id": "zurga3DIqmEx"
   },
   "outputs": [
    {
     "name": "stdout",
     "output_type": "stream",
     "text": [
      "Filtered vowels: ['e', 'o', 'o']\n"
     ]
    }
   ],
   "source": [
    "# Write code here\n",
    "def is_vowel(char):\n",
    "    vowels = 'aeiou'\n",
    "    return char.lower() in vowels\n",
    "\n",
    "input_string = \"Hello World\"\n",
    "\n",
    "# Use filter() to filter all the vowels in the input string\n",
    "filtered_vowels = list(filter(is_vowel, input_string))\n",
    "\n",
    "print(\"Filtered vowels:\", filtered_vowels)\n"
   ]
  },
  {
   "cell_type": "markdown",
   "metadata": {
    "id": "uQrsunZSqoYu"
   },
   "source": [
    "### `Problem-10`: Use reduce to convert a 2D list to 1D"
   ]
  },
  {
   "cell_type": "code",
   "execution_count": 13,
   "metadata": {
    "id": "E1YUwnfgqnka"
   },
   "outputs": [
    {
     "name": "stdout",
     "output_type": "stream",
     "text": [
      "1D List: [1, 2, 3, 4, 5, 6, 7, 8]\n"
     ]
    }
   ],
   "source": [
    "# Write code here\n",
    "from functools import reduce\n",
    "\n",
    "# Sample 2D list\n",
    "two_d_list = [[1, 2, 3], [4, 5], [6, 7, 8]]\n",
    "\n",
    "# Use reduce to concatenate the sublists into a single list\n",
    "one_d_list = reduce(lambda x, y: x + y, two_d_list)\n",
    "\n",
    "print(\"1D List:\", one_d_list)\n"
   ]
  },
  {
   "cell_type": "markdown",
   "metadata": {
    "id": "8-DLQEawt-_t"
   },
   "source": [
    "### `Problem 11`- A dictionary contains following information about 5 employees:\n",
    "- First name\n",
    "- Last name\n",
    "- Age\n",
    "- Grade(Skilled,Semi-skilled,Highly skilled)<br>\n",
    "Write a program using map/filter/reduce to a list of employees(first name + last name) who are highly skilled"
   ]
  },
  {
   "cell_type": "code",
   "execution_count": 1,
   "metadata": {
    "id": "OLvptttLs6OU"
   },
   "outputs": [],
   "source": [
    "# Write code here\n",
    "employees = [\n",
    "    {\n",
    "        'fname':'Ali',\n",
    "        'lname':'Khan',\n",
    "        'age' : 33,\n",
    "        'grade':'skilled'\n",
    "    },\n",
    "    {\n",
    "        'fname':'Raja',\n",
    "        'lname':'Atif',\n",
    "        'age' : 34,\n",
    "        'grade':'semi-skilled'\n",
    "    },\n",
    "    {\n",
    "        'fname':'John',\n",
    "        'lname':'Carter',\n",
    "        'age' : 35,\n",
    "        'grade':'highly-skilled'\n",
    "    },\n",
    "    {\n",
    "        'fname':'Yoyo',\n",
    "        'lname':'Meo',\n",
    "        'age' : 30,\n",
    "        'grade':'skilled'\n",
    "    },\n",
    "    {\n",
    "        'fname':'Ayesha',\n",
    "        'lname':'Khan',\n",
    "        'age' : 37,\n",
    "        'grade':'highly-skilled'\n",
    "    }\n",
    "\n",
    "]"
   ]
  },
  {
   "cell_type": "code",
   "execution_count": 4,
   "metadata": {
    "colab": {
     "base_uri": "https://localhost:8080/"
    },
    "id": "vLX0FAQkui3y",
    "outputId": "e7d50543-c30e-4a20-c793-756f5a435df7"
   },
   "outputs": [
    {
     "name": "stdout",
     "output_type": "stream",
     "text": [
      "['John Carter', 'Ayesha Khan']\n"
     ]
    }
   ],
   "source": [
    "from functools import reduce\n",
    "\n",
    "# Employee data\n",
    "employees = [\n",
    "    {'fname': 'Ali', 'lname': 'Khan', 'age': 33, 'grade': 'skilled'},\n",
    "    {'fname': 'Raja', 'lname': 'Atif', 'age': 34, 'grade': 'semi-skilled'},\n",
    "    {'fname': 'John', 'lname': 'Carter', 'age': 35, 'grade': 'highly-skilled'},\n",
    "    {'fname': 'Yoyo', 'lname': 'Meo', 'age': 30, 'grade': 'skilled'},\n",
    "    {'fname': 'Ayesha', 'lname': 'Khan', 'age': 37, 'grade': 'highly-skilled'}\n",
    "]\n",
    "\n",
    "# Step 1: Filter only 'highly-skilled' employees\n",
    "highly_skilled = filter(lambda emp: emp['grade'] == 'highly-skilled', employees)\n",
    "\n",
    "# Step 2: Map the result to extract full names\n",
    "full_names = map(lambda emp: emp['fname'] + \" \" + emp['lname'], highly_skilled)\n",
    "\n",
    "# Convert to a list\n",
    "result = list(full_names)\n",
    "\n",
    "# Print the result\n",
    "print(result)\n"
   ]
  },
  {
   "cell_type": "code",
   "execution_count": null,
   "metadata": {
    "id": "ldMjGfkgAMr9"
   },
   "outputs": [],
   "source": []
  },
  {
   "cell_type": "code",
   "execution_count": 7,
   "metadata": {},
   "outputs": [
    {
     "name": "stdout",
     "output_type": "stream",
     "text": [
      "6 is Perfect? True\n",
      "28 is Perfect? True\n",
      "496 is Perfect? True\n",
      "8128 is Perfect? True\n",
      "12 is Perfect? False\n",
      "15 is Perfect? False\n",
      "100 is Perfect? False\n"
     ]
    }
   ],
   "source": [
    "def is_perfect_number(n):\n",
    "    \"\"\"Check if a number is perfect\"\"\"\n",
    "    if n <= 0:\n",
    "        return False  # Perfect numbers are positive\n",
    "\n",
    "    # Find all divisors (including itself)\n",
    "    divisors = []\n",
    "    for i in range(1, n + 1):\n",
    "        if n % i == 0:\n",
    "            divisors.append(i)  # Add divisor to the list\n",
    "\n",
    "    # Check if the sum of all divisors is twice the number\n",
    "    return sum(divisors) // 2 == n\n",
    "\n",
    "# Test cases\n",
    "numbers = [6, 28, 496, 8128, 12, 15, 100]\n",
    "for num in numbers:\n",
    "    print(f\"{num} is Perfect? {is_perfect_number(num)}\")\n"
   ]
  },
  {
   "cell_type": "code",
   "execution_count": 8,
   "metadata": {},
   "outputs": [
    {
     "name": "stdin",
     "output_type": "stream",
     "text": [
      "Enter a number:  24\n"
     ]
    },
    {
     "name": "stdout",
     "output_type": "stream",
     "text": [
      "24 is NOT a Perfect Number!\n"
     ]
    }
   ],
   "source": [
    "def is_perfect_number(n):\n",
    "    \"\"\"Check if a number is perfect\"\"\"\n",
    "    if n <= 0:\n",
    "        return False  # Perfect numbers are positive\n",
    "\n",
    "    # Find all divisors (including itself)\n",
    "    divisors = []\n",
    "    for i in range(1, n + 1):\n",
    "        if n % i == 0:\n",
    "            divisors.append(i)  # Add divisor to the list\n",
    "\n",
    "    # Check if the sum of all divisors is twice the number\n",
    "    return sum(divisors) // 2 == n\n",
    "\n",
    "# Take input from the user\n",
    "num = int(input(\"Enter a number: \"))\n",
    "\n",
    "# Check if it's a perfect number and print result\n",
    "if is_perfect_number(num):\n",
    "    print(f\"{num} is a Perfect Number!\")\n",
    "else:\n",
    "    print(f\"{num} is NOT a Perfect Number!\")\n"
   ]
  },
  {
   "cell_type": "code",
   "execution_count": null,
   "metadata": {},
   "outputs": [],
   "source": []
  }
 ],
 "metadata": {
  "colab": {
   "provenance": []
  },
  "kernelspec": {
   "display_name": "Python 3 (ipykernel)",
   "language": "python",
   "name": "python3"
  },
  "language_info": {
   "codemirror_mode": {
    "name": "ipython",
    "version": 3
   },
   "file_extension": ".py",
   "mimetype": "text/x-python",
   "name": "python",
   "nbconvert_exporter": "python",
   "pygments_lexer": "ipython3",
   "version": "3.11.7"
  }
 },
 "nbformat": 4,
 "nbformat_minor": 4
}
