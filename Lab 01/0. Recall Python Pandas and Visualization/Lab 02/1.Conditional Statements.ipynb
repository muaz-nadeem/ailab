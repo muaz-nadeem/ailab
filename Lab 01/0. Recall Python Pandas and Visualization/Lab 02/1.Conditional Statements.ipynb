{
 "cells": [
  {
   "cell_type": "markdown",
   "id": "de55ac4d",
   "metadata": {
    "id": "ready-portable"
   },
   "source": [
    "\n",
    "1. **[Conditional Statement and Loops](#loops)**\n",
    "    - 1.1 - [if statement](#if_statement)\n",
    "    - 1.2 - [if else statement](#if_else)\n",
    "    - 1.3 - [if elif else](#if_elif_else)\n",
    "    - 1.4 - [nested if and if else statement](#nested_if)\n",
    "    - 1.5 - [for loop](#forloop)\n",
    "    - 1.6 - [while loop](#whileloop)\n",
    "    - 1.7 - [break statement](#break_statement)\n",
    "    - 1.8 - [continue statement](#continue_statement)"
   ]
  },
  {
   "cell_type": "markdown",
   "id": "d55a04ed",
   "metadata": {
    "id": "urban-armstrong"
   },
   "source": [
    "## **1. Conditional Statement and Loops**"
   ]
  },
  {
   "cell_type": "markdown",
   "id": "be2e9459",
   "metadata": {
    "id": "hazardous-essex"
   },
   "source": [
    "### **1.1 if statement**"
   ]
  },
  {
   "cell_type": "markdown",
   "id": "24c2f13c",
   "metadata": {
    "id": "precious-framework"
   },
   "source": [
    "**syntax:**<br><br>\n",
    "if BOOLEAN EXPRESSION:<br>\n",
    "&nbsp;&nbsp;    STATEMENTS"
   ]
  },
  {
   "cell_type": "markdown",
   "id": "de585e63",
   "metadata": {
    "id": "labeled-optics"
   },
   "source": [
    "**Now, we will see some examples on if statements**"
   ]
  },
  {
   "cell_type": "code",
   "execution_count": 42,
   "id": "dee8d315",
   "metadata": {},
   "outputs": [
    {
     "name": "stdout",
     "output_type": "stream",
     "text": [
      "equal\n"
     ]
    }
   ],
   "source": [
    "a = 40\n",
    "b = 40\n",
    "if a>b:\n",
    "    print(\"Yes\")\n",
    "elif a == b:\n",
    "    print(\"equal\")\n",
    "else:\n",
    "    print(\"No\")\n",
    "    "
   ]
  },
  {
   "cell_type": "code",
   "execution_count": 47,
   "id": "5fe2c17b",
   "metadata": {
    "id": "illegal-highlight",
    "outputId": "6623619f-e398-48d6-8e3a-2e4115d859a8"
   },
   "outputs": [
    {
     "name": "stdout",
     "output_type": "stream",
     "text": [
      "Python Tutorial\n"
     ]
    }
   ],
   "source": [
    "# Create a string\n",
    "my_string = 'Python'\n",
    "\n",
    "# Create a list\n",
    "my_list = ['Data Science', 'Machine Learning', 'Artificial Intelligence', 'Python']\n",
    "\n",
    "if my_string in my_list:\n",
    "    print(my_string + ' Tutorial')"
   ]
  },
  {
   "cell_type": "code",
   "execution_count": null,
   "id": "73b0431b",
   "metadata": {},
   "outputs": [],
   "source": []
  },
  {
   "cell_type": "markdown",
   "id": "bfe894b7",
   "metadata": {
    "id": "blond-particle"
   },
   "source": [
    " Test if an item is a member of a list or not."
   ]
  },
  {
   "cell_type": "code",
   "execution_count": 48,
   "id": "a7cba6f3",
   "metadata": {
    "id": "passive-horse",
    "outputId": "f66356ca-275f-4f39-9c47-d9506f7cf2b5"
   },
   "outputs": [
    {
     "name": "stdout",
     "output_type": "stream",
     "text": [
      "right\n"
     ]
    }
   ],
   "source": [
    "languages = ['java', 'python' ,'perl', 'ruby', 'c#']\n",
    "if 'python' in languages:\n",
    "    print('right')"
   ]
  },
  {
   "cell_type": "markdown",
   "id": "6362d675",
   "metadata": {
    "id": "armed-arrow"
   },
   "source": [
    "### 1.2 if else statement"
   ]
  },
  {
   "cell_type": "markdown",
   "id": "277e40f7",
   "metadata": {
    "id": "sweet-binding"
   },
   "source": [
    "**Syntax of if...else**<br><br>\n",
    "if BOOLEAN EXPRESSION:<br>\n",
    "&nbsp;&nbsp;    STATEMENTS_1<br>\n",
    "else:<br>\n",
    "&nbsp;&nbsp;    STATEMENTS_2"
   ]
  },
  {
   "cell_type": "markdown",
   "id": "718c0cee",
   "metadata": {
    "id": "smaller-desktop"
   },
   "source": [
    "#### Let’s see an example of the implementation of the if…else statement."
   ]
  },
  {
   "cell_type": "code",
   "execution_count": 49,
   "id": "cfd8f867",
   "metadata": {
    "id": "beginning-mentor",
    "outputId": "5cdba0c2-4666-45d2-fa2f-2591cc033cda"
   },
   "outputs": [
    {
     "name": "stdout",
     "output_type": "stream",
     "text": [
      "200\n",
      "the value of x different from 500\n"
     ]
    }
   ],
   "source": [
    "# Create a integer\n",
    "x = 200\n",
    "print(x)\n",
    "\n",
    "# Uses the not operator to reverse the result of the logical expression\n",
    "if not x == 500:\n",
    "    print('the value of x different from 500')\n",
    "else:\n",
    "    print('the value of x is equal to 500')"
   ]
  },
  {
   "cell_type": "code",
   "execution_count": 2,
   "id": "88aeb578",
   "metadata": {
    "id": "active-dealing",
    "outputId": "f8821d23-5d94-4558-b747-104b212703e2"
   },
   "outputs": [
    {
     "name": "stdin",
     "output_type": "stream",
     "text": [
      "enter your userid gameplay\n",
      "enter your password simplelearning123\n"
     ]
    },
    {
     "name": "stdout",
     "output_type": "stream",
     "text": [
      "Succefully logged in!!\n"
     ]
    }
   ],
   "source": [
    "string1 = str(input(\"enter your userid\"))\n",
    "string2 = str(input(\"enter your password\"))\n",
    "\n",
    "if (string1 == \"gameplay\" and string2 == \"simplelearning123\"):\n",
    "    print(\"Succefully logged in!!\")\n",
    "else :\n",
    "    print(\"Please check your userid and password\")"
   ]
  },
  {
   "cell_type": "markdown",
   "id": "00a86cbf",
   "metadata": {
    "id": "broken-transaction"
   },
   "source": [
    "### **1.3 if elif else**"
   ]
  },
  {
   "cell_type": "markdown",
   "id": "b79d003d",
   "metadata": {
    "id": "artificial-hardwood"
   },
   "source": [
    "**Syntax of if elif else:**<br>\n",
    "if x < y:<br>\n",
    "&nbsp;&nbsp;    STATEMENTS_A<br>\n",
    "elif x > y:<br>\n",
    "&nbsp;&nbsp    STATEMENTS_B<br>\n",
    "else:<br>\n",
    "&nbsp;&nbsp;    STATEMENTS_C"
   ]
  },
  {
   "cell_type": "markdown",
   "id": "b517bbaf",
   "metadata": {
    "id": "female-absolute"
   },
   "source": [
    "**Q. Check whether the given number is greater than 50 or not**"
   ]
  },
  {
   "cell_type": "code",
   "execution_count": 5,
   "id": "edef4c5b",
   "metadata": {
    "id": "figured-dynamics",
    "outputId": "91d98fb2-5de1-4667-e084-b44cc6dcc0ed"
   },
   "outputs": [
    {
     "name": "stdout",
     "output_type": "stream",
     "text": [
      "Number is greater than 50\n"
     ]
    }
   ],
   "source": [
    "num = 100\n",
    "if num == 0:\n",
    "    print(\"Number is Zero\")\n",
    "elif num > 5:\n",
    "    print(\"Number is greater than 50\")\n",
    "else:\n",
    "    print(\"Number is smaller than 50\")"
   ]
  },
  {
   "cell_type": "markdown",
   "id": "d4ab7b3f",
   "metadata": {
    "id": "ruled-davis"
   },
   "source": [
    "### **1.4 nested if and if else statement**"
   ]
  },
  {
   "cell_type": "code",
   "execution_count": 54,
   "id": "de66fd1b",
   "metadata": {
    "id": "wrong-polls",
    "outputId": "db1e5576-704b-475b-c3e7-ab2524eb909c"
   },
   "outputs": [
    {
     "name": "stdout",
     "output_type": "stream",
     "text": [
      "Enter a number: -1\n",
      "Negative number\n"
     ]
    }
   ],
   "source": [
    "num = float(input(\"Enter a number: \"))\n",
    "if num >= 0:\n",
    "    if num == 0:\n",
    "        print(\"Zero\")\n",
    "    else:\n",
    "        print(\"Positive number\")\n",
    "else:\n",
    "    print(\"Negative number\")"
   ]
  },
  {
   "cell_type": "code",
   "execution_count": null,
   "id": "3cd5353a",
   "metadata": {},
   "outputs": [],
   "source": []
  },
  {
   "cell_type": "markdown",
   "id": "10116965",
   "metadata": {
    "id": "unavailable-encyclopedia"
   },
   "source": [
    "### **1.5 for loop**"
   ]
  },
  {
   "cell_type": "markdown",
   "id": "bb3ce731",
   "metadata": {
    "id": "driven-chess"
   },
   "source": [
    "**Syntax of for loop:**<br>\n",
    "for val in sequence:<br>\n",
    "&nbsp;&nbsp;\tBody of for"
   ]
  },
  {
   "cell_type": "code",
   "execution_count": 56,
   "id": "e7c64a1a",
   "metadata": {},
   "outputs": [
    {
     "name": "stdout",
     "output_type": "stream",
     "text": [
      "0\n",
      "1\n",
      "2\n",
      "3\n",
      "4\n",
      "5\n",
      "6\n",
      "7\n",
      "8\n",
      "9\n"
     ]
    }
   ],
   "source": [
    "for i in range(10):\n",
    "    print(i)"
   ]
  },
  {
   "cell_type": "code",
   "execution_count": 7,
   "id": "12513d00",
   "metadata": {},
   "outputs": [
    {
     "name": "stdout",
     "output_type": "stream",
     "text": [
      "2\n",
      "5\n",
      "8\n",
      "11\n",
      "14\n",
      "17\n"
     ]
    }
   ],
   "source": [
    "for i in range(2,20,2+1):\n",
    "    print(i)"
   ]
  },
  {
   "cell_type": "code",
   "execution_count": null,
   "id": "42cdfbca",
   "metadata": {},
   "outputs": [],
   "source": []
  },
  {
   "cell_type": "markdown",
   "id": "2f3586ce",
   "metadata": {
    "id": "awful-tamil"
   },
   "source": [
    "**Q. Program to find the sum of all numbers stored in a list**"
   ]
  },
  {
   "cell_type": "code",
   "execution_count": 36,
   "id": "8b52cfe7",
   "metadata": {
    "id": "lesser-compensation",
    "outputId": "321e2b81-6318-4ef7-ecd4-9d41601ae16d"
   },
   "outputs": [
    {
     "data": {
      "text/plain": [
       "2068"
      ]
     },
     "execution_count": 36,
     "metadata": {},
     "output_type": "execute_result"
    }
   ],
   "source": [
    "# List of numbers\n",
    "numbers = [66, 545, 223, 438, 224, 122, 125, 214, 111]\n",
    "sum = 0 \n",
    "for i in numbers:\n",
    "    sum=sum+i\n",
    "sum\n"
   ]
  },
  {
   "cell_type": "code",
   "execution_count": null,
   "id": "2c9f2e8b-6674-4939-a88a-470ef5e52469",
   "metadata": {},
   "outputs": [],
   "source": []
  },
  {
   "cell_type": "markdown",
   "id": "51a916c8",
   "metadata": {
    "id": "statutory-catalog"
   },
   "source": [
    "### **1.6 while loop**"
   ]
  },
  {
   "cell_type": "markdown",
   "id": "97d84d9a",
   "metadata": {
    "id": "clinical-carter"
   },
   "source": [
    "**Syntax of for loop:**<br>\n",
    "while (expression):<br>\n",
    "&nbsp;&nbsp;     statement_1<br>\n",
    "&nbsp;&nbsp;     statement_2<br>\n",
    "    ...."
   ]
  },
  {
   "cell_type": "code",
   "execution_count": 34,
   "id": "64572737",
   "metadata": {},
   "outputs": [
    {
     "name": "stdout",
     "output_type": "stream",
     "text": [
      "0\n",
      "1\n",
      "2\n",
      "3\n",
      "4\n"
     ]
    }
   ],
   "source": [
    "count = 0\n",
    "\n",
    "while count < 5:\n",
    "    print(count)\n",
    "    count+=1\n",
    "    "
   ]
  },
  {
   "cell_type": "code",
   "execution_count": 35,
   "id": "813dda17",
   "metadata": {},
   "outputs": [
    {
     "name": "stdout",
     "output_type": "stream",
     "text": [
      "1\n",
      "2\n",
      "3\n",
      "4\n",
      "5\n"
     ]
    }
   ],
   "source": [
    "count = 0\n",
    "\n",
    "while count < 5:\n",
    "    count += 1\n",
    "    print(count)\n"
   ]
  },
  {
   "cell_type": "markdown",
   "id": "fc54f72d",
   "metadata": {
    "id": "random-rescue"
   },
   "source": [
    "**Q. Calculate the sum of the integers from 0 to 9**"
   ]
  },
  {
   "cell_type": "code",
   "execution_count": null,
   "id": "f7c62bb7",
   "metadata": {
    "id": "mighty-cartoon",
    "outputId": "c803d7ad-302c-4cb9-e27a-0da5e0d28faf"
   },
   "outputs": [],
   "source": []
  },
  {
   "cell_type": "markdown",
   "id": "fadc1b81",
   "metadata": {
    "id": "handmade-salvation"
   },
   "source": [
    "### **1.7 break statement**"
   ]
  },
  {
   "cell_type": "markdown",
   "id": "c91e5906",
   "metadata": {
    "id": "through-clarity"
   },
   "source": [
    "Check whether a numbers entered by the user is negative or not."
   ]
  },
  {
   "cell_type": "code",
   "execution_count": 23,
   "id": "60ff8ff9",
   "metadata": {
    "id": "modified-explorer",
    "outputId": "fa897946-e34d-4e0c-e0fe-7c544007a76c"
   },
   "outputs": [
    {
     "ename": "KeyboardInterrupt",
     "evalue": "Interrupted by user",
     "output_type": "error",
     "traceback": [
      "\u001b[1;31m---------------------------------------------------------------------------\u001b[0m",
      "\u001b[1;31mKeyboardInterrupt\u001b[0m                         Traceback (most recent call last)",
      "Cell \u001b[1;32mIn[23], line 2\u001b[0m\n\u001b[0;32m      1\u001b[0m \u001b[38;5;28;01mfor\u001b[39;00m i \u001b[38;5;129;01min\u001b[39;00m \u001b[38;5;28mrange\u001b[39m(\u001b[38;5;241m5\u001b[39m):\n\u001b[1;32m----> 2\u001b[0m     a \u001b[38;5;241m=\u001b[39m \u001b[38;5;28mint\u001b[39m(\u001b[38;5;28minput\u001b[39m())\n\u001b[0;32m      3\u001b[0m     \u001b[38;5;28;01mif\u001b[39;00m a \u001b[38;5;241m<\u001b[39m \u001b[38;5;241m0\u001b[39m:\n\u001b[0;32m      4\u001b[0m         \u001b[38;5;28mprint\u001b[39m(\u001b[38;5;124m'\u001b[39m\u001b[38;5;124mMet a negative number\u001b[39m\u001b[38;5;124m'\u001b[39m, a)\n",
      "File \u001b[1;32m~\\anaconda3\\Lib\\site-packages\\ipykernel\\kernelbase.py:1262\u001b[0m, in \u001b[0;36mKernel.raw_input\u001b[1;34m(self, prompt)\u001b[0m\n\u001b[0;32m   1260\u001b[0m     msg \u001b[38;5;241m=\u001b[39m \u001b[38;5;124m\"\u001b[39m\u001b[38;5;124mraw_input was called, but this frontend does not support input requests.\u001b[39m\u001b[38;5;124m\"\u001b[39m\n\u001b[0;32m   1261\u001b[0m     \u001b[38;5;28;01mraise\u001b[39;00m StdinNotImplementedError(msg)\n\u001b[1;32m-> 1262\u001b[0m \u001b[38;5;28;01mreturn\u001b[39;00m \u001b[38;5;28mself\u001b[39m\u001b[38;5;241m.\u001b[39m_input_request(\n\u001b[0;32m   1263\u001b[0m     \u001b[38;5;28mstr\u001b[39m(prompt),\n\u001b[0;32m   1264\u001b[0m     \u001b[38;5;28mself\u001b[39m\u001b[38;5;241m.\u001b[39m_parent_ident[\u001b[38;5;124m\"\u001b[39m\u001b[38;5;124mshell\u001b[39m\u001b[38;5;124m\"\u001b[39m],\n\u001b[0;32m   1265\u001b[0m     \u001b[38;5;28mself\u001b[39m\u001b[38;5;241m.\u001b[39mget_parent(\u001b[38;5;124m\"\u001b[39m\u001b[38;5;124mshell\u001b[39m\u001b[38;5;124m\"\u001b[39m),\n\u001b[0;32m   1266\u001b[0m     password\u001b[38;5;241m=\u001b[39m\u001b[38;5;28;01mFalse\u001b[39;00m,\n\u001b[0;32m   1267\u001b[0m )\n",
      "File \u001b[1;32m~\\anaconda3\\Lib\\site-packages\\ipykernel\\kernelbase.py:1305\u001b[0m, in \u001b[0;36mKernel._input_request\u001b[1;34m(self, prompt, ident, parent, password)\u001b[0m\n\u001b[0;32m   1302\u001b[0m \u001b[38;5;28;01mexcept\u001b[39;00m \u001b[38;5;167;01mKeyboardInterrupt\u001b[39;00m:\n\u001b[0;32m   1303\u001b[0m     \u001b[38;5;66;03m# re-raise KeyboardInterrupt, to truncate traceback\u001b[39;00m\n\u001b[0;32m   1304\u001b[0m     msg \u001b[38;5;241m=\u001b[39m \u001b[38;5;124m\"\u001b[39m\u001b[38;5;124mInterrupted by user\u001b[39m\u001b[38;5;124m\"\u001b[39m\n\u001b[1;32m-> 1305\u001b[0m     \u001b[38;5;28;01mraise\u001b[39;00m \u001b[38;5;167;01mKeyboardInterrupt\u001b[39;00m(msg) \u001b[38;5;28;01mfrom\u001b[39;00m \u001b[38;5;28;01mNone\u001b[39;00m\n\u001b[0;32m   1306\u001b[0m \u001b[38;5;28;01mexcept\u001b[39;00m \u001b[38;5;167;01mException\u001b[39;00m:\n\u001b[0;32m   1307\u001b[0m     \u001b[38;5;28mself\u001b[39m\u001b[38;5;241m.\u001b[39mlog\u001b[38;5;241m.\u001b[39mwarning(\u001b[38;5;124m\"\u001b[39m\u001b[38;5;124mInvalid Message:\u001b[39m\u001b[38;5;124m\"\u001b[39m, exc_info\u001b[38;5;241m=\u001b[39m\u001b[38;5;28;01mTrue\u001b[39;00m)\n",
      "\u001b[1;31mKeyboardInterrupt\u001b[0m: Interrupted by user"
     ]
    }
   ],
   "source": [
    "for i in range(5):\n",
    "    a = int(input())\n",
    "    if a < 0:\n",
    "        print('Met a negative number', a)\n",
    "        break\n",
    "else:\n",
    "    print('No negative numbers met')"
   ]
  },
  {
   "cell_type": "markdown",
   "id": "ccf435e9",
   "metadata": {
    "id": "touched-wisconsin"
   },
   "source": [
    "### **1.8 continue statement**"
   ]
  },
  {
   "cell_type": "code",
   "execution_count": 22,
   "id": "5b4eb79f",
   "metadata": {
    "id": "private-zambia",
    "outputId": "dced13bd-a173-48d3-85fb-ddb538804867"
   },
   "outputs": [
    {
     "name": "stdout",
     "output_type": "stream",
     "text": [
      "1 2 3 4 5 7 8 9 10 "
     ]
    }
   ],
   "source": [
    "# Loop from 1 to 10 \n",
    "for i in range(1, 11): \n",
    "    if i == 6: \n",
    "        continue\n",
    "    else: \n",
    "        # Otherwise print the value of i \n",
    "        print(i, end = \" \") "
   ]
  },
  {
   "cell_type": "markdown",
   "id": "a3a712e3",
   "metadata": {
    "id": "younger-norwegian"
   },
   "source": [
    "Use the continue statement in a while loop."
   ]
  },
  {
   "cell_type": "code",
   "execution_count": 68,
   "id": "8652f1f0",
   "metadata": {
    "id": "infinite-attribute",
    "outputId": "de18dcd6-f389-43ec-b865-70d1c25b64c5"
   },
   "outputs": [
    {
     "name": "stdout",
     "output_type": "stream",
     "text": [
      "1\n",
      "2\n",
      "4\n",
      "5\n",
      "6\n",
      "7\n",
      "8\n",
      "9\n"
     ]
    }
   ],
   "source": [
    "i = 0\n",
    "while i < 9:\n",
    "    i += 1\n",
    "    if i == 3:\n",
    "        continue\n",
    "    print(i)"
   ]
  },
  {
   "cell_type": "markdown",
   "id": "dcf44f4b",
   "metadata": {},
   "source": [
    "### ** enumerate() method**\n",
    "Syntax\n",
    "enumerate(iterable, start=0)\n",
    "\n",
    "iterable: The iterable (list, tuple, string, etc.) you want to iterate over.\n",
    "\n",
    "start: (Optional) The starting value of the index. Default is 0."
   ]
  },
  {
   "cell_type": "code",
   "execution_count": 25,
   "id": "7907f247",
   "metadata": {},
   "outputs": [
    {
     "name": "stdout",
     "output_type": "stream",
     "text": [
      "(0, 'apple')\n",
      "(1, 'banana')\n",
      "(2, 'orange')\n"
     ]
    }
   ],
   "source": [
    "fruits = ['apple', 'banana', 'orange']\n",
    "\n",
    "\n",
    "for i in enumerate(fruits):\n",
    "    print(i)"
   ]
  },
  {
   "cell_type": "code",
   "execution_count": 26,
   "id": "3a0ac9b4",
   "metadata": {},
   "outputs": [
    {
     "name": "stdout",
     "output_type": "stream",
     "text": [
      "0 apple\n",
      "1 banana\n",
      "2 orange\n"
     ]
    }
   ],
   "source": [
    "for i , v in enumerate(fruits):\n",
    "    print(i,v)"
   ]
  },
  {
   "cell_type": "code",
   "execution_count": 28,
   "id": "5deb3572",
   "metadata": {},
   "outputs": [
    {
     "name": "stdout",
     "output_type": "stream",
     "text": [
      "Index: 0, Value: apple\n",
      "Index: 1, Value: banana\n",
      "Index: 2, Value: orange\n"
     ]
    }
   ],
   "source": [
    "# Using enumerate without specifying start\n",
    "for index, value in enumerate(fruits):\n",
    "    print(f\"Index: {index}, Value: {value}\")"
   ]
  },
  {
   "cell_type": "code",
   "execution_count": null,
   "id": "6578996f",
   "metadata": {},
   "outputs": [],
   "source": []
  }
 ],
 "metadata": {
  "colab": {
   "collapsed_sections": [
    "optional-paintball",
    "labeled-optics",
    "smaller-desktop",
    "female-absolute",
    "awful-tamil",
    "random-rescue"
   ],
   "name": "Reference Notebook - 03.ipynb",
   "provenance": []
  },
  "kernelspec": {
   "display_name": "Python 3 (ipykernel)",
   "language": "python",
   "name": "python3"
  },
  "language_info": {
   "codemirror_mode": {
    "name": "ipython",
    "version": 3
   },
   "file_extension": ".py",
   "mimetype": "text/x-python",
   "name": "python",
   "nbconvert_exporter": "python",
   "pygments_lexer": "ipython3",
   "version": "3.11.7"
  }
 },
 "nbformat": 4,
 "nbformat_minor": 5
}
