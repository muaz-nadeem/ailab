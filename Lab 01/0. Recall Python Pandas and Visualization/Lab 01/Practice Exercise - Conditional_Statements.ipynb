{
 "cells": [
  {
   "cell_type": "markdown",
   "metadata": {},
   "source": [
    "# **CONDITIONAL STATEMENTS EXERCISE**"
   ]
  },
  {
   "cell_type": "markdown",
   "metadata": {},
   "source": [
    "### 1. Check if a is equal to 10, If yes, print \"Hello\", else print \"Good Bye\"\n",
    "a = 56"
   ]
  },
  {
   "cell_type": "code",
   "execution_count": 1,
   "metadata": {},
   "outputs": [
    {
     "name": "stdout",
     "output_type": "stream",
     "text": [
      "Good Bye\n"
     ]
    }
   ],
   "source": [
    "a = 56\n",
    "if a== 10:\n",
    "    print(\"hello\")\n",
    "else:\n",
    "    print(\"Good Bye\")"
   ]
  },
  {
   "cell_type": "markdown",
   "metadata": {},
   "source": [
    "### 2. Check whether a number is even or odd\n",
    "a = 2020"
   ]
  },
  {
   "cell_type": "code",
   "execution_count": 2,
   "metadata": {},
   "outputs": [
    {
     "name": "stdout",
     "output_type": "stream",
     "text": [
      "Even\n"
     ]
    }
   ],
   "source": [
    "a = 2020\n",
    "if a %2 ==0:\n",
    "    print(\"Even\")\n",
    "else:\n",
    "    print(\"odd\")"
   ]
  },
  {
   "cell_type": "markdown",
   "metadata": {},
   "source": [
    "### 3.  Check whether the area of the rectangle is greater than the perimeter of the rectangle\n",
    "length = 5\n",
    "breadth = 10\n",
    "\n",
    "Hint: Area of rectangle = length * breadth \n",
    "\n",
    "Hint: Perimeter of rectangle = 2 * (length + breadth)"
   ]
  },
  {
   "cell_type": "code",
   "execution_count": 9,
   "metadata": {},
   "outputs": [
    {
     "name": "stdout",
     "output_type": "stream",
     "text": [
      "50\n",
      "30\n",
      "True\n"
     ]
    }
   ],
   "source": [
    "length = 5 \n",
    "\n",
    "breadth = 10\n",
    "\n",
    "Area_of_rectangle = length * breadth\n",
    "print(Area_of_rectangle)\n",
    "\n",
    "Perimeter_of_rectangle = 2 * (length + breadth)\n",
    "print(Perimeter_of_rectangle)\n",
    "\n",
    "if Area_of_rectangle > Perimeter_of_rectangle:\n",
    "    print(True)\n",
    "else:\n",
    "    print(False)"
   ]
  },
  {
   "cell_type": "markdown",
   "metadata": {},
   "source": [
    "### 4. Calculate the average marks of a student in 5 subjects and give grades accordingly:\n",
    "If average>90 then Grade = A\n",
    "\n",
    "If average>80 then Grade = B\n",
    "\n",
    "If average>70 then Grade = C\n",
    "\n",
    "If average>60 then Grade = D\n",
    "\n",
    "If average>50 then Grade = E\n",
    "\n",
    "else Fail\n",
    "\n",
    "Marks in subject 1= 72\n",
    "\n",
    "Marks in subject 2= 85\n",
    "\n",
    "Marks in subject 3= 96\n",
    "\n",
    "Marks in subject 4= 42\n",
    "\n",
    "Marks in subject 5= 95"
   ]
  },
  {
   "cell_type": "code",
   "execution_count": 27,
   "metadata": {},
   "outputs": [
    {
     "name": "stdout",
     "output_type": "stream",
     "text": [
      "Grade c\n"
     ]
    }
   ],
   "source": [
    "sub1 = 72\n",
    "sub2 = 85\n",
    "sub3 = 96\n",
    "sub4 = 42\n",
    "sub5 = 95\n",
    "average_marks=(sub1+sub2+sub3+sub4+sub5)/5\n",
    "if average_marks > 90:\n",
    "    print(\"Grade A\")\n",
    "elif average_marks > 80 and  average_marks < 90:\n",
    "    print(\"Grade B\")\n",
    "elif average_marks > 70 and  average_marks < 80:\n",
    "    print(\"Grade c\")\n",
    "elif average_marks > 60 and  average_marks < 70:\n",
    "    print(\"Grade D\")\n",
    "elif average_marks > 50 and  average_marks < 60:\n",
    "    print(\"Grade E\")\n",
    "else:\n",
    "    print(\"Fail\")"
   ]
  },
  {
   "cell_type": "markdown",
   "metadata": {},
   "source": [
    "###  5. Check if a triangle is equilateral, isosceles or scalene.\n",
    "\n",
    "Hint :\n",
    "1. An equilateral triangle is a triangle in which all three sides are equal.\n",
    "\n",
    "2. A scalene triangle is a triangle that has three unequal sides.\n",
    "\n",
    "3. An isosceles triangle is a triangle with (at least) two equal sides.\n",
    "\n",
    "Dimensions of triangle:\n",
    "\n",
    "side 1 = 6 \n",
    "\n",
    "side 2 = 8 \n",
    "\n",
    "side 3 = 12"
   ]
  },
  {
   "cell_type": "code",
   "execution_count": 17,
   "metadata": {},
   "outputs": [
    {
     "name": "stdout",
     "output_type": "stream",
     "text": [
      "scalene triangle\n"
     ]
    }
   ],
   "source": [
    "side1 = 6\n",
    "side2 = 8\n",
    "side3 = 12\n",
    "if side1==side2 and side2==side3:\n",
    "    print(\"equilateral triangle\")\n",
    "elif side1!=side2 and side2!=side3:\n",
    "    print(\"scalene triangle\")\n",
    "else:\n",
    "    print(\"isosceles triangle\")"
   ]
  },
  {
   "cell_type": "markdown",
   "metadata": {},
   "source": [
    "### 6. Check if the word \"Data\" is present in the sentence \"I am a Data Scientist\". If found print \"It is present\" else print FALSE"
   ]
  },
  {
   "cell_type": "code",
   "execution_count": 21,
   "metadata": {},
   "outputs": [
    {
     "name": "stdout",
     "output_type": "stream",
     "text": [
      "It is present\n"
     ]
    }
   ],
   "source": [
    "sent = \"I am a Data Scientis\"\n",
    "if \"Data\" in sent:\n",
    "    print(\"It is present\")\n",
    "else:\n",
    "    print(False)"
   ]
  },
  {
   "cell_type": "markdown",
   "metadata": {},
   "source": [
    "### 7. Write Python code to check if a number is positive or negative."
   ]
  },
  {
   "cell_type": "code",
   "execution_count": 23,
   "metadata": {},
   "outputs": [
    {
     "name": "stdout",
     "output_type": "stream",
     "text": [
      "enter number-1\n",
      "negative\n"
     ]
    }
   ],
   "source": [
    "a=int(input(\"enter number\"))\n",
    "if a>0:\n",
    "    print(\"positive\")\n",
    "else:\n",
    "    print(\"negative\")"
   ]
  },
  {
   "cell_type": "code",
   "execution_count": 24,
   "metadata": {},
   "outputs": [
    {
     "name": "stdout",
     "output_type": "stream",
     "text": [
      "enter number56\n",
      "positive\n"
     ]
    }
   ],
   "source": [
    "a=int(input(\"enter number\"))\n",
    "if a>0:\n",
    "    print(\"positive\")\n",
    "else:\n",
    "    print(\"negative\")"
   ]
  },
  {
   "cell_type": "markdown",
   "metadata": {},
   "source": [
    "### 8. x = 20 and y = 30. Write a Python code to check if x is less than y."
   ]
  },
  {
   "cell_type": "code",
   "execution_count": 26,
   "metadata": {},
   "outputs": [
    {
     "name": "stdout",
     "output_type": "stream",
     "text": [
      "x is less\n"
     ]
    }
   ],
   "source": [
    "x = 20\n",
    "y = 30\n",
    "if x < y:\n",
    "    print(\"x is less\")\n",
    "else:\n",
    "    print(\"x is greater\")"
   ]
  },
  {
   "cell_type": "markdown",
   "metadata": {},
   "source": [
    "### 9. Based on the users age, divide them into three groups \n",
    "    Group 1 : Age <18 , Minors who are not eligible to work\n",
    "    Group 2 : 18 < Age < 60 , Eligible to work\n",
    "    Group 3 : Age > 60, Too old to work as per govt. regulations. \n",
    "\n",
    "### Write a Python code for the same"
   ]
  },
  {
   "cell_type": "code",
   "execution_count": 37,
   "metadata": {},
   "outputs": [
    {
     "name": "stdout",
     "output_type": "stream",
     "text": [
      "enter age 18\n",
      "Eligible to work\n"
     ]
    }
   ],
   "source": [
    "age= int(input(\"enter age \"))\n",
    "\n",
    "if age<18:\n",
    "    print(\"Minors,not eligible to work\")\n",
    "elif age>=18 and age<=60:\n",
    "    print(\"Eligible to work\")\n",
    "elif age>60 and age <18:\n",
    "    print(\"Too old to work as per govt. regulations\")\n",
    "else:\n",
    "    print(\"Please write valid age \")\n"
   ]
  },
  {
   "cell_type": "code",
   "execution_count": 39,
   "metadata": {},
   "outputs": [
    {
     "name": "stdout",
     "output_type": "stream",
     "text": [
      "enter age 59\n",
      "Eligible to work\n"
     ]
    }
   ],
   "source": [
    "age= int(input(\"enter age \"))\n",
    "\n",
    "if age<18:\n",
    "    print(\"Minors,not eligible to work\")\n",
    "elif age>=18 and age<=60:\n",
    "    print(\"Eligible to work\")\n",
    "elif age>60 and age <18:\n",
    "    print(\"Too old to work as per govt. regulations\")\n",
    "else:\n",
    "    print(\"Please write valid age \")\n"
   ]
  },
  {
   "cell_type": "code",
   "execution_count": 40,
   "metadata": {},
   "outputs": [
    {
     "name": "stdout",
     "output_type": "stream",
     "text": [
      "enter age 60\n",
      "Eligible to work\n"
     ]
    }
   ],
   "source": [
    "age= int(input(\"enter age \"))\n",
    "\n",
    "if age<18:\n",
    "    print(\"Minors,not eligible to work\")\n",
    "elif age>=18 and age<=60:\n",
    "    print(\"Eligible to work\")\n",
    "elif age>60 and age <18:\n",
    "    print(\"Too old to work as per govt. regulations\")\n",
    "else:\n",
    "    print(\"Please write valid age \")\n"
   ]
  },
  {
   "cell_type": "code",
   "execution_count": 41,
   "metadata": {},
   "outputs": [
    {
     "name": "stdout",
     "output_type": "stream",
     "text": [
      "enter age 4\n",
      "Minors,not eligible to work\n"
     ]
    }
   ],
   "source": [
    "age= int(input(\"enter age \"))\n",
    "\n",
    "if age<18:\n",
    "    print(\"Minors,not eligible to work\")\n",
    "elif age>=18 and age<=60:\n",
    "    print(\"Eligible to work\")\n",
    "elif age>60 and age <18:\n",
    "    print(\"Too old to work as per govt. regulations\")\n",
    "else:\n",
    "    print(\"Please write valid age \")\n"
   ]
  },
  {
   "cell_type": "code",
   "execution_count": 46,
   "metadata": {},
   "outputs": [
    {
     "name": "stdout",
     "output_type": "stream",
     "text": [
      "enter age 56\n",
      "Eligible to work\n"
     ]
    }
   ],
   "source": [
    "age= int(input(\"enter age \"))\n",
    "\n",
    "if age<18:\n",
    "    print(\"Minors,not eligible to work\")\n",
    "elif age>=18 and age<=60:\n",
    "    print(\"Eligible to work\")\n",
    "elif age>60:\n",
    "    print(\"Too old to work as per govt. regulations\")\n",
    "else:\n",
    "    print(\"Please write valid age \")\n"
   ]
  },
  {
   "cell_type": "markdown",
   "metadata": {},
   "source": [
    "### 10. From the age of 3 people determine the oldest person among them.\n",
    "Age of first person = 25\n",
    "\n",
    "Age of second person = 34\n",
    "\n",
    "Age of third person = 45"
   ]
  },
  {
   "cell_type": "code",
   "execution_count": 52,
   "metadata": {},
   "outputs": [
    {
     "name": "stdout",
     "output_type": "stream",
     "text": [
      "person3 is gretaer\n"
     ]
    }
   ],
   "source": [
    "person1 = 25\n",
    "person2 = 34\n",
    "person3 = 45\n",
    "\n",
    "if person1>person2 and person1>person3:\n",
    "    print(\"person1 is greater\")\n",
    "elif person2>person1 and person2>person3:\n",
    "    print(\"person2 is gretaer\")\n",
    "else:\n",
    "    print(\"person3 is gretaer\")"
   ]
  },
  {
   "cell_type": "code",
   "execution_count": null,
   "metadata": {},
   "outputs": [],
   "source": []
  }
 ],
 "metadata": {
  "kernelspec": {
   "display_name": "Python 3 (ipykernel)",
   "language": "python",
   "name": "python3"
  },
  "language_info": {
   "codemirror_mode": {
    "name": "ipython",
    "version": 3
   },
   "file_extension": ".py",
   "mimetype": "text/x-python",
   "name": "python",
   "nbconvert_exporter": "python",
   "pygments_lexer": "ipython3",
   "version": "3.11.7"
  }
 },
 "nbformat": 4,
 "nbformat_minor": 4
}
