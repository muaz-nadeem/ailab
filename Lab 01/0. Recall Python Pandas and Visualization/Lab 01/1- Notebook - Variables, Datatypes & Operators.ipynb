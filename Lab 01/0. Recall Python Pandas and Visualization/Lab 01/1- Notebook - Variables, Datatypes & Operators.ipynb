{
 "cells": [
  {
   "cell_type": "markdown",
   "metadata": {
    "colab_type": "text",
    "id": "ftCxC4m1WwN4"
   },
   "source": [
    "# **Python Variables**"
   ]
  },
  {
   "cell_type": "code",
   "execution_count": 15,
   "metadata": {},
   "outputs": [
    {
     "name": "stdout",
     "output_type": "stream",
     "text": [
      "AI10L\n"
     ]
    }
   ],
   "source": [
    "print('AI10L')"
   ]
  },
  {
   "cell_type": "code",
   "execution_count": 23,
   "metadata": {},
   "outputs": [
    {
     "name": "stdout",
     "output_type": "stream",
     "text": [
      "(2+3j)\n"
     ]
    }
   ],
   "source": []
  },
  {
   "cell_type": "code",
   "execution_count": 1,
   "metadata": {},
   "outputs": [
    {
     "name": "stdout",
     "output_type": "stream",
     "text": [
      "1\n",
      "5\n",
      "3\n"
     ]
    }
   ],
   "source": [
    "num,num1,num2=1,5,\"3\"\n",
    "print(num)\n",
    "print(num1)\n",
    "print(num2)"
   ]
  },
  {
   "cell_type": "markdown",
   "metadata": {},
   "source": [
    "## print(\"Hello World\")"
   ]
  },
  {
   "cell_type": "code",
   "execution_count": 2,
   "metadata": {},
   "outputs": [
    {
     "name": "stdout",
     "output_type": "stream",
     "text": [
      "3 3.5 AI\n"
     ]
    }
   ],
   "source": [
    "print(3,3.5,'AI')"
   ]
  },
  {
   "cell_type": "code",
   "execution_count": 18,
   "metadata": {},
   "outputs": [
    {
     "name": "stdout",
     "output_type": "stream",
     "text": [
      "x = 2\n"
     ]
    }
   ],
   "source": [
    "# Initialize a variable\n",
    "x = 2\n",
    "print(\"x =\", x)     "
   ]
  },
  {
   "cell_type": "code",
   "execution_count": 21,
   "metadata": {},
   "outputs": [
    {
     "name": "stdout",
     "output_type": "stream",
     "text": [
      "Helloworld\n"
     ]
    }
   ],
   "source": [
    "print(\"Hello\", end='') #\\n  \\t\n",
    "print(\"world\")"
   ]
  },
  {
   "cell_type": "code",
   "execution_count": 22,
   "metadata": {},
   "outputs": [
    {
     "name": "stdout",
     "output_type": "stream",
     "text": [
      "x = 2\n",
      "a = 8\n",
      "\n",
      "a = 8j"
     ]
    }
   ],
   "source": [
    "x = 2\n",
    "a = 8\n",
    "print(\"x =\", x)\n",
    "print(\"a =\", a,end='\\n\\n')\n",
    "print(\"a =\", 8, end = 'j')"
   ]
  },
  {
   "cell_type": "code",
   "execution_count": 9,
   "metadata": {},
   "outputs": [
    {
     "name": "stdout",
     "output_type": "stream",
     "text": [
      "India/Pakistan/Nepal/Srilanka\n"
     ]
    }
   ],
   "source": [
    "print(\"India\",\"Pakistan\",\"Nepal\",\"Srilanka\",sep='/')"
   ]
  },
  {
   "cell_type": "code",
   "execution_count": 19,
   "metadata": {},
   "outputs": [
    {
     "name": "stdout",
     "output_type": "stream",
     "text": [
      "India-Pakistan-Nepal-Srilanka\n"
     ]
    }
   ],
   "source": [
    "print(\"India\",\"Pakistan\",\"Nepal\",\"Srilanka\",sep='-')"
   ]
  },
  {
   "cell_type": "code",
   "execution_count": 20,
   "metadata": {},
   "outputs": [
    {
     "name": "stdout",
     "output_type": "stream",
     "text": [
      "x =$$2\n",
      "a =j8\n"
     ]
    }
   ],
   "source": [
    "x = 2\n",
    "a = 8\n",
    "print(\"x =\", x, sep='$$')\n",
    "print(\"a =\", 8, sep = 'j')"
   ]
  },
  {
   "cell_type": "markdown",
   "metadata": {},
   "source": [
    "### **Multiple assignments**\n",
    "Python allows you to assign a single value to several variables simultaneously. For example −"
   ]
  },
  {
   "cell_type": "code",
   "execution_count": 42,
   "metadata": {},
   "outputs": [
    {
     "name": "stdout",
     "output_type": "stream",
     "text": [
      "5\n",
      "6\n",
      "7\n"
     ]
    }
   ],
   "source": [
    "# special syntax\n",
    "a = 5;b=6;c=7\n",
    "print(a)\n",
    "print(b)\n",
    "print(c)"
   ]
  },
  {
   "cell_type": "code",
   "execution_count": 43,
   "metadata": {},
   "outputs": [
    {
     "name": "stdout",
     "output_type": "stream",
     "text": [
      "4\n",
      "5\n",
      "6\n"
     ]
    }
   ],
   "source": [
    "a,b,c = 4,5,6\n",
    "print(a)\n",
    "print(b)\n",
    "print(c)"
   ]
  },
  {
   "cell_type": "code",
   "execution_count": 13,
   "metadata": {},
   "outputs": [
    {
     "name": "stdout",
     "output_type": "stream",
     "text": [
      "5\n",
      "5\n",
      "5\n",
      "10\n",
      "10\n"
     ]
    }
   ],
   "source": [
    "# Here, an integer object is created with the value 5, and all three variables are assigned to the same memory location\n",
    "x = y = z = 5\n",
    "a = b = 10\n",
    "print(x)\n",
    "print(y)\n",
    "print(z)\n",
    "\n",
    "print(a)\n",
    "print(b)"
   ]
  },
  {
   "cell_type": "code",
   "execution_count": 14,
   "metadata": {},
   "outputs": [
    {
     "name": "stdout",
     "output_type": "stream",
     "text": [
      "5\n",
      "10.1\n",
      "Great Lakes\n",
      "\n",
      ".......\n",
      "\n",
      "10 (3+4j)  Peshawar\n",
      "\n",
      ".......\n",
      "\n",
      "10\n",
      "(3+4j)\n",
      " Peshawar\n",
      "\n",
      ".......\n",
      "\n",
      "street20 15 Cricket\n",
      "street20\n",
      "15\n",
      "Cricket\n"
     ]
    }
   ],
   "source": [
    "a,b,c = 5,10.1,\"Great Lakes\"\n",
    "print(a)\n",
    "print(b)\n",
    "print(c)\n",
    "print(\"\\n.......\\n\")\n",
    "x,y,z=10,3+4j,\" Peshawar\"\n",
    "print(x,y,z)\n",
    "print(\"\\n.......\\n\")\n",
    "print(x)\n",
    "print(y)\n",
    "print(z)\n",
    "print(\"\\n.......\\n\")\n",
    "a,b,c = \"street20\",15,\"Cricket\"\n",
    "print(a,b,c)\n",
    "print(a)\n",
    "print(b)\n",
    "print(c)"
   ]
  },
  {
   "cell_type": "raw",
   "metadata": {},
   "source": [
    " **Re-assigning a variable**"
   ]
  },
  {
   "cell_type": "code",
   "execution_count": 16,
   "metadata": {},
   "outputs": [
    {
     "data": {
      "text/plain": [
       "25"
      ]
     },
     "execution_count": 16,
     "metadata": {},
     "output_type": "execute_result"
    }
   ],
   "source": [
    "var1 = 25\n",
    "var2 = \"Arthur\"\n",
    "var2 = var1\n",
    "var2\n",
    "\n",
    "var1=var2 #show same var2 result because var1 already assign to var 2\n",
    "var1"
   ]
  },
  {
   "cell_type": "code",
   "execution_count": null,
   "metadata": {},
   "outputs": [],
   "source": []
  },
  {
   "cell_type": "markdown",
   "metadata": {
    "colab_type": "text",
    "id": "ilx9djl-WwOE"
   },
   "source": [
    "## **Data Types**\n",
    "\n",
    "A data type is an attribute of data that tells the compiler or interpreter how the programmer intends to use the data. Python supports the following Python data types:\n",
    "                        1. Numbers\n",
    "                        2. Strings\n",
    "                        3. Boolean\n",
    "                        4. Lists\n",
    "                        5. Tuples\n",
    "                        6. Dictionaries \n",
    "                        7. Sets"
   ]
  },
  {
   "cell_type": "markdown",
   "metadata": {
    "colab_type": "text",
    "id": "IZJAzajfWwOF"
   },
   "source": [
    "### **Python Numbers**\n",
    "There are four numeric Python data type:<br>\n",
    "a. int (signed integers)<br>\n",
    "b. float (floating point real values)<br>\n",
    "c. long (long integers, they can also be represented in octal and hexadecimal)<br>\n",
    "d. complex (complex numbers)\n",
    "\n",
    "<table>\n",
    "  <tr>\n",
    "  <th>int</th>\n",
    "  <th>float</th>\n",
    "  <th>long</th>\n",
    "  <th>complex</th>\n",
    "  </tr>\n",
    "  <tr>\n",
    "  <td>10</td>\n",
    "  <td>54.4</td>\n",
    "  <td>012345L</td>\n",
    "  <td>2+5j</td>  \n",
    "  </tr>\n",
    "  <tr>\n",
    "  <td>70</td>\n",
    "  <td>0.01</td>\n",
    "  <td>-987652L</td>\n",
    "  <td>1.18j</td>\n",
    "  </tr>\n",
    "  <tr>\n",
    "  <td>-150</td>\n",
    "  <td>1.626e16</td>\n",
    "  <td>10000000000000000</td>\n",
    "  <td>-10j</td>\n",
    "  </tr>\n",
    "  <tr>\n",
    "  <td>0x69</td>\n",
    "  <td>74.15</td>\n",
    "  <td>-4335685298777L</td>\n",
    "  <td>45j</td>\n",
    "  </tr>\n",
    "  <tr>\n",
    "  <td>-0x260</td>\n",
    "  <td>89.33</td>\n",
    "  <td>0348L\t</td>\n",
    "  <td>3e+26J</td>\n",
    "  </tr>\n",
    "</table>"
   ]
  },
  {
   "cell_type": "markdown",
   "metadata": {
    "colab_type": "text",
    "id": "U6hFAQM8WwOF"
   },
   "source": [
    "#### int\n",
    "'int' stands for integer. This Python Data Type holds signed integers. We can use the type() function to find which class it belongs to."
   ]
  },
  {
   "cell_type": "code",
   "execution_count": 25,
   "metadata": {
    "colab": {},
    "colab_type": "code",
    "id": "gD08tb_oWwOG",
    "outputId": "ade96d08-412f-400e-89b3-d4d231b486ed"
   },
   "outputs": [
    {
     "data": {
      "text/plain": [
       "float"
      ]
     },
     "execution_count": 25,
     "metadata": {},
     "output_type": "execute_result"
    }
   ],
   "source": [
    "a = -5\n",
    "type(a)\n",
    "b=2\n",
    "type(b)\n",
    "c=3.4\n",
    "type(c)"
   ]
  },
  {
   "cell_type": "code",
   "execution_count": 26,
   "metadata": {
    "colab": {},
    "colab_type": "code",
    "id": "9TEUZuKzWwOJ",
    "outputId": "fd522156-ecc7-4cee-c867-f35772d79445"
   },
   "outputs": [
    {
     "data": {
      "text/plain": [
       "str"
      ]
     },
     "execution_count": 26,
     "metadata": {},
     "output_type": "execute_result"
    }
   ],
   "source": [
    "x = \"gsahskja\"\n",
    "type(x)"
   ]
  },
  {
   "cell_type": "markdown",
   "metadata": {
    "colab_type": "text",
    "id": "kcwZsEBnWwOL"
   },
   "source": [
    "#### float"
   ]
  },
  {
   "cell_type": "code",
   "execution_count": 27,
   "metadata": {
    "colab": {},
    "colab_type": "code",
    "id": "gzRxX7LwWwOL",
    "outputId": "50a2e85f-9b5b-41ff-a7a2-1cd437b0217a"
   },
   "outputs": [
    {
     "data": {
      "text/plain": [
       "float"
      ]
     },
     "execution_count": 27,
     "metadata": {},
     "output_type": "execute_result"
    }
   ],
   "source": [
    "a = 1.1\n",
    "type(a)"
   ]
  },
  {
   "cell_type": "code",
   "execution_count": 28,
   "metadata": {
    "colab": {},
    "colab_type": "code",
    "id": "kxQhtfexWwON",
    "outputId": "2aa0c5e2-ce26-4c35-e3cd-cab2d57a8fbb"
   },
   "outputs": [
    {
     "data": {
      "text/plain": [
       "float"
      ]
     },
     "execution_count": 28,
     "metadata": {},
     "output_type": "execute_result"
    }
   ],
   "source": [
    "x = -3.14\n",
    "type(x)"
   ]
  },
  {
   "cell_type": "code",
   "execution_count": 29,
   "metadata": {
    "colab": {},
    "colab_type": "code",
    "id": "yvZHGCMZWwOP",
    "outputId": "954f8d05-cd55-4536-c2ec-9b8b9a134008"
   },
   "outputs": [
    {
     "data": {
      "text/plain": [
       "float"
      ]
     },
     "execution_count": 29,
     "metadata": {},
     "output_type": "execute_result"
    }
   ],
   "source": [
    "y = 1.626e16\n",
    "type(y)"
   ]
  },
  {
   "cell_type": "markdown",
   "metadata": {
    "colab_type": "text",
    "id": "FSSMkUsYWwOQ"
   },
   "source": [
    "#### long"
   ]
  },
  {
   "cell_type": "code",
   "execution_count": 31,
   "metadata": {
    "colab": {},
    "colab_type": "code",
    "id": "D4mAkQ29WwOR",
    "outputId": "b4318e62-cceb-4420-a580-b6c120792829"
   },
   "outputs": [
    {
     "data": {
      "text/plain": [
       "int"
      ]
     },
     "execution_count": 31,
     "metadata": {},
     "output_type": "execute_result"
    }
   ],
   "source": [
    "x =999999999999999999999999999999999999999999999\n",
    "type(x)"
   ]
  },
  {
   "cell_type": "markdown",
   "metadata": {
    "colab_type": "text",
    "id": "KUu1KWCuWwOT"
   },
   "source": [
    "This construct does not exist in Python 3."
   ]
  },
  {
   "cell_type": "markdown",
   "metadata": {
    "colab_type": "text",
    "id": "apmbFzZHWwOT"
   },
   "source": [
    "#### complex"
   ]
  },
  {
   "cell_type": "code",
   "execution_count": 32,
   "metadata": {
    "colab": {},
    "colab_type": "code",
    "id": "gp5-Bm5MWwOU",
    "outputId": "ceaa2e45-cc0a-455e-99f5-ea5b01fd0095"
   },
   "outputs": [
    {
     "data": {
      "text/plain": [
       "complex"
      ]
     },
     "execution_count": 32,
     "metadata": {},
     "output_type": "execute_result"
    }
   ],
   "source": [
    "x = 3+4j\n",
    "type(x)"
   ]
  },
  {
   "cell_type": "code",
   "execution_count": 37,
   "metadata": {
    "colab": {},
    "colab_type": "code",
    "id": "tgyMwLLCWwOW",
    "outputId": "06b79a2a-6831-4bf1-cf6e-eaa3ca7d73d7"
   },
   "outputs": [
    {
     "data": {
      "text/plain": [
       "complex"
      ]
     },
     "execution_count": 37,
     "metadata": {},
     "output_type": "execute_result"
    }
   ],
   "source": [
    "y = 3e+4j\n",
    "type(y)\n"
   ]
  },
  {
   "cell_type": "code",
   "execution_count": 39,
   "metadata": {},
   "outputs": [
    {
     "data": {
      "text/plain": [
       "complex"
      ]
     },
     "execution_count": 39,
     "metadata": {},
     "output_type": "execute_result"
    }
   ],
   "source": [
    "y = 3e-4j\n",
    "type(y)"
   ]
  },
  {
   "cell_type": "code",
   "execution_count": 42,
   "metadata": {},
   "outputs": [
    {
     "data": {
      "text/plain": [
       "complex"
      ]
     },
     "execution_count": 42,
     "metadata": {},
     "output_type": "execute_result"
    }
   ],
   "source": [
    "a=1j\n",
    "type(a)"
   ]
  },
  {
   "cell_type": "code",
   "execution_count": 3,
   "metadata": {},
   "outputs": [
    {
     "name": "stdout",
     "output_type": "stream",
     "text": [
      "(22+3j) is complex number? True\n"
     ]
    }
   ],
   "source": [
    "a=22+3j\n",
    "print(a, \"is complex number?\", isinstance(1+2j,complex))"
   ]
  },
  {
   "cell_type": "markdown",
   "metadata": {
    "colab_type": "text",
    "id": "T41pYrW8WwOX"
   },
   "source": [
    "### **Python Strings**"
   ]
  },
  {
   "cell_type": "markdown",
   "metadata": {
    "colab_type": "text",
    "id": "RSA1gdoeWwOY"
   },
   "source": [
    "A string is a sequence of characters. Python does not have a <em>char</em> data type, unlike C++ or Java. You can delimit a string using single quotes('string') or double quotes(\"string\")."
   ]
  },
  {
   "cell_type": "code",
   "execution_count": 54,
   "metadata": {},
   "outputs": [],
   "source": [
    "c = 'hello'"
   ]
  },
  {
   "cell_type": "code",
   "execution_count": 55,
   "metadata": {},
   "outputs": [
    {
     "data": {
      "text/plain": [
       "str"
      ]
     },
     "execution_count": 55,
     "metadata": {},
     "output_type": "execute_result"
    }
   ],
   "source": [
    "type(c)"
   ]
  },
  {
   "cell_type": "code",
   "execution_count": 45,
   "metadata": {
    "colab": {},
    "colab_type": "code",
    "id": "XrVRb1yqWwOY",
    "outputId": "fc090ff7-5951-4de8-ee1b-47101d33c0a8"
   },
   "outputs": [
    {
     "data": {
      "text/plain": [
       "'Introduction to Python'"
      ]
     },
     "execution_count": 45,
     "metadata": {},
     "output_type": "execute_result"
    }
   ],
   "source": [
    "string = \"Introduction to Python\"\n",
    "string"
   ]
  },
  {
   "cell_type": "markdown",
   "metadata": {
    "colab_type": "text",
    "id": "xX5bTc8aWwOa"
   },
   "source": [
    "The plus (+) sign is the string concatenation operator and the asterisk (*) is the repetition operator."
   ]
  },
  {
   "cell_type": "code",
   "execution_count": 46,
   "metadata": {
    "colab": {},
    "colab_type": "code",
    "id": "I7T09aV_WwOb",
    "outputId": "3b91dc6d-6051-4777-c46c-4443bb855690"
   },
   "outputs": [
    {
     "data": {
      "text/plain": [
       "'GreatLearning'"
      ]
     },
     "execution_count": 46,
     "metadata": {},
     "output_type": "execute_result"
    }
   ],
   "source": [
    "str1 = \"Great\"\n",
    "str2 = \"Learning\"\n",
    "str3 = str1+str2\n",
    "str3                      # Prints concatenated string"
   ]
  },
  {
   "cell_type": "code",
   "execution_count": 47,
   "metadata": {
    "colab": {},
    "colab_type": "code",
    "id": "YgJ_RdB_WwOd",
    "outputId": "d3efea17-5441-467e-de0b-7f445af4afe5"
   },
   "outputs": [
    {
     "data": {
      "text/plain": [
       "'GreatLearningGreatLearningGreatLearning'"
      ]
     },
     "execution_count": 47,
     "metadata": {},
     "output_type": "execute_result"
    }
   ],
   "source": [
    "str3*3                    # Prints string three times"
   ]
  },
  {
   "cell_type": "markdown",
   "metadata": {
    "colab_type": "text",
    "id": "D3D5pz2TWwOf"
   },
   "source": [
    "Subsets of strings can be taken using the slice operator ([ ]). You can display a character from a string using its index in the string. Remember, indexing starts with 0."
   ]
  },
  {
   "cell_type": "code",
   "execution_count": 60,
   "metadata": {},
   "outputs": [],
   "source": [
    "# Types of Indexing\n",
    "# Postive Indexing\n",
    "# Negative Indexing\n",
    "\n"
   ]
  },
  {
   "cell_type": "code",
   "execution_count": 61,
   "metadata": {
    "colab": {},
    "colab_type": "code",
    "id": "FcOZ-f9SWwOh",
    "outputId": "e20d366c-6b65-46b2-a525-b8cb31bf27ee"
   },
   "outputs": [
    {
     "data": {
      "text/plain": [
       "'d'"
      ]
     },
     "execution_count": 61,
     "metadata": {},
     "output_type": "execute_result"
    }
   ],
   "source": [
    "string[5]                 # Prints sixth character of the string"
   ]
  },
  {
   "cell_type": "code",
   "execution_count": 62,
   "metadata": {},
   "outputs": [
    {
     "name": "stdout",
     "output_type": "stream",
     "text": [
      "a\n"
     ]
    }
   ],
   "source": [
    "print(str3[-6])"
   ]
  },
  {
   "cell_type": "markdown",
   "metadata": {
    "colab_type": "text",
    "id": "rmacECWIWwOj"
   },
   "source": [
    "You can also display a burst of characters in a string using the slicing operator with indexes starting at 0 at the beginning of the string and working their way from -1 at the end."
   ]
  },
  {
   "cell_type": "code",
   "execution_count": 56,
   "metadata": {
    "colab": {},
    "colab_type": "code",
    "id": "JDHvadR_WwOj",
    "outputId": "0534a17e-8ff8-4aa7-d99b-700577d292e0"
   },
   "outputs": [
    {
     "data": {
      "text/plain": [
       "'to Python'"
      ]
     },
     "execution_count": 56,
     "metadata": {},
     "output_type": "execute_result"
    }
   ],
   "source": [
    "string[13:22]             # Prints characters starting from 14th to 21st character"
   ]
  },
  {
   "cell_type": "code",
   "execution_count": 64,
   "metadata": {},
   "outputs": [
    {
     "name": "stdout",
     "output_type": "stream",
     "text": [
      "Intro\n"
     ]
    }
   ],
   "source": [
    "print(string[0:5])"
   ]
  },
  {
   "cell_type": "code",
   "execution_count": 65,
   "metadata": {},
   "outputs": [
    {
     "name": "stdout",
     "output_type": "stream",
     "text": [
      "Iru\n"
     ]
    }
   ],
   "source": [
    "print(string[0:8:3])"
   ]
  },
  {
   "cell_type": "markdown",
   "metadata": {
    "colab_type": "text",
    "id": "lqGsgw_6WwOl"
   },
   "source": [
    "Strings are <em>immutable</em>. The following line of code will generate an error."
   ]
  },
  {
   "cell_type": "code",
   "execution_count": 50,
   "metadata": {
    "colab": {},
    "colab_type": "code",
    "id": "SGqCKsZBWwOl",
    "outputId": "09e4b162-a296-4c68-8e8a-f6a6f703a231"
   },
   "outputs": [
    {
     "ename": "TypeError",
     "evalue": "'str' object does not support item assignment",
     "output_type": "error",
     "traceback": [
      "\u001b[1;31m---------------------------------------------------------------------------\u001b[0m",
      "\u001b[1;31mTypeError\u001b[0m                                 Traceback (most recent call last)",
      "Cell \u001b[1;32mIn[50], line 1\u001b[0m\n\u001b[1;32m----> 1\u001b[0m string[\u001b[38;5;241m0\u001b[39m] \u001b[38;5;241m=\u001b[39m \u001b[38;5;124m'\u001b[39m\u001b[38;5;124mP\u001b[39m\u001b[38;5;124m'\u001b[39m\n",
      "\u001b[1;31mTypeError\u001b[0m: 'str' object does not support item assignment"
     ]
    }
   ],
   "source": [
    "string[0] = 'P'"
   ]
  },
  {
   "cell_type": "code",
   "execution_count": 52,
   "metadata": {},
   "outputs": [
    {
     "name": "stdout",
     "output_type": "stream",
     "text": [
      "False\n",
      "True\n",
      "True\n"
     ]
    }
   ],
   "source": [
    "string = \"Introduction to Python\"\n",
    "print(string[0] == 'i')\n",
    "print(string[0] == 'I')\n",
    "print(string[5:12] == 'duction')\n"
   ]
  },
  {
   "cell_type": "markdown",
   "metadata": {},
   "source": [
    "#### **String Methods**"
   ]
  },
  {
   "cell_type": "code",
   "execution_count": 68,
   "metadata": {},
   "outputs": [
    {
     "data": {
      "text/plain": [
       "9"
      ]
     },
     "execution_count": 68,
     "metadata": {},
     "output_type": "execute_result"
    }
   ],
   "source": [
    "# 1 len methods\n",
    "st = 'String ye'\n",
    "len(st)"
   ]
  },
  {
   "cell_type": "code",
   "execution_count": 71,
   "metadata": {},
   "outputs": [
    {
     "name": "stdout",
     "output_type": "stream",
     "text": [
      "hello, world!\n",
      "HELLO, WORLD!\n",
      "Hello, world!\n"
     ]
    }
   ],
   "source": [
    "# 2 lower(), capitalize() and upper() \n",
    "string = \"Hello, World!\"\n",
    "lower_case = string.lower()\n",
    "upper_case = string.upper()\n",
    "capitalized = string.capitalize()\n",
    "print(lower_case) \n",
    "print(upper_case)  \n",
    "print(capitalized)"
   ]
  },
  {
   "cell_type": "code",
   "execution_count": 75,
   "metadata": {},
   "outputs": [
    {
     "name": "stdout",
     "output_type": "stream",
     "text": [
      "True\n",
      "True\n",
      "True\n",
      "True\n"
     ]
    }
   ],
   "source": [
    "# 3\n",
    "alpha_check = \"Hello\".isalpha()\n",
    "digit_check = \"123\".isdigit()\n",
    "alnum_check = \"Hello123\".isalnum()\n",
    "space_check = \"   \".isspace()\n",
    "print(alpha_check)  \n",
    "print(digit_check)  \n",
    "print(alnum_check)  \n",
    "print(space_check)  \n"
   ]
  },
  {
   "cell_type": "code",
   "execution_count": 77,
   "metadata": {},
   "outputs": [
    {
     "name": "stdout",
     "output_type": "stream",
     "text": [
      "My name is Alice and I am 30 years old.\n",
      "My name is Alice and I am 30 years old.\n"
     ]
    }
   ],
   "source": [
    "# 4 f string or format()\n",
    "name = \"Alice\"\n",
    "age = 30\n",
    "formatted_string = \"My name is {} and I am {} years old.\".format(name, age)\n",
    "# or using f-strings (Python 3.6+)\n",
    "f_string = f\"My name is {name} and I am {age} years old.\"\n",
    "print(formatted_string)\n",
    "print(f_string)\n"
   ]
  },
  {
   "cell_type": "code",
   "execution_count": 84,
   "metadata": {},
   "outputs": [
    {
     "name": "stdout",
     "output_type": "stream",
     "text": [
      "Hello World !\n"
     ]
    }
   ],
   "source": [
    "# .join()\n",
    "words = \"Hello\", \"World\", \"!\"\n",
    "joined_string = \" \".join(words)\n",
    "print(joined_string)  \n"
   ]
  },
  {
   "cell_type": "code",
   "execution_count": 93,
   "metadata": {},
   "outputs": [
    {
     "name": "stdout",
     "output_type": "stream",
     "text": [
      "3\n"
     ]
    }
   ],
   "source": [
    "# count()\n",
    "string = \"Hello, Hello,Hello World!\"\n",
    "count = string.count(\"Hello\")\n",
    "print(count)  \n"
   ]
  },
  {
   "cell_type": "code",
   "execution_count": 103,
   "metadata": {},
   "outputs": [
    {
     "name": "stdout",
     "output_type": "stream",
     "text": [
      "4\n"
     ]
    }
   ],
   "source": [
    "string = \"Hello, Hello,Hello World!\"\n",
    "count = string.count(\"o\")\n",
    "print(count)  "
   ]
  },
  {
   "cell_type": "code",
   "execution_count": 106,
   "metadata": {},
   "outputs": [
    {
     "name": "stdout",
     "output_type": "stream",
     "text": [
      "['berry', 'banana', 'kiala']\n"
     ]
    }
   ],
   "source": [
    "# split()\n",
    "fruit = \"berry, banana, kiala\"\n",
    "words = fruit.split(\", \")\n",
    "print(words)  \n"
   ]
  },
  {
   "cell_type": "code",
   "execution_count": 107,
   "metadata": {},
   "outputs": [
    {
     "name": "stdout",
     "output_type": "stream",
     "text": [
      "OYE, Word\n"
     ]
    }
   ],
   "source": [
    "#strip()\n",
    "stri = \"   OYE, Word   \"\n",
    "stripped = stri.strip()\n",
    "print(stripped)  # Output: Hello, World!\n"
   ]
  },
  {
   "cell_type": "code",
   "execution_count": 95,
   "metadata": {},
   "outputs": [
    {
     "name": "stdout",
     "output_type": "stream",
     "text": [
      "4\n"
     ]
    }
   ],
   "source": [
    "# find()\n",
    "st = \"how are you\"\n",
    "index = st.find(\"are\")\n",
    "print(index)  # Output: return index of first occurence\n"
   ]
  },
  {
   "cell_type": "code",
   "execution_count": 97,
   "metadata": {},
   "outputs": [
    {
     "name": "stdout",
     "output_type": "stream",
     "text": [
      "-1\n"
     ]
    }
   ],
   "source": [
    "st = \"how are you\"\n",
    "index = st.find(\"me\")\n",
    "print(index) #not found"
   ]
  },
  {
   "cell_type": "code",
   "execution_count": 99,
   "metadata": {},
   "outputs": [
    {
     "name": "stdout",
     "output_type": "stream",
     "text": [
      "galaxy, unicorn, baag\n"
     ]
    }
   ],
   "source": [
    "# replace()\n",
    "string = \"universe, unicorn, baag\"\n",
    "new_string = string.replace(\"universe\", \"galaxy\")\n",
    "print(new_string)  \n"
   ]
  },
  {
   "cell_type": "code",
   "execution_count": 102,
   "metadata": {},
   "outputs": [
    {
     "name": "stdout",
     "output_type": "stream",
     "text": [
      "universe, unicorn, baag\n"
     ]
    }
   ],
   "source": [
    "string = \"universe, unicorn, baag\"\n",
    "new_string = string.replace(\"world\", \"universe \")\n",
    "print(new_string)  \n",
    "# does nothing"
   ]
  },
  {
   "cell_type": "code",
   "execution_count": null,
   "metadata": {},
   "outputs": [],
   "source": []
  },
  {
   "cell_type": "markdown",
   "metadata": {
    "colab_type": "text",
    "id": "pfuknDsgF9Rn"
   },
   "source": [
    "### **Python Boolean**\n",
    "In Python programming language, the boolean datatype is a primitive datatype having one of two values: **True** or **False**. It is often a result of some conditions."
   ]
  },
  {
   "cell_type": "code",
   "execution_count": 64,
   "metadata": {
    "colab": {},
    "colab_type": "code",
    "id": "MZWZ-vhsF9Ro",
    "outputId": "0bdb7701-cbab-4cd5-b406-b53fdb925c61"
   },
   "outputs": [
    {
     "data": {
      "text/plain": [
       "bool"
      ]
     },
     "execution_count": 64,
     "metadata": {},
     "output_type": "execute_result"
    }
   ],
   "source": [
    "var = True\n",
    "type(var)"
   ]
  },
  {
   "cell_type": "code",
   "execution_count": 65,
   "metadata": {
    "colab": {},
    "colab_type": "code",
    "id": "-tO6lz15F9Rs",
    "outputId": "1ddfb75b-2e42-4453-dd86-1c082efe98c4"
   },
   "outputs": [
    {
     "name": "stdout",
     "output_type": "stream",
     "text": [
      "True\n"
     ]
    }
   ],
   "source": [
    "print(10 > 9)"
   ]
  },
  {
   "cell_type": "code",
   "execution_count": 66,
   "metadata": {
    "colab": {},
    "colab_type": "code",
    "id": "uY2vZtqyF9Ru",
    "outputId": "d1c03e29-5873-4587-b192-09b38d0c68fe"
   },
   "outputs": [
    {
     "name": "stdout",
     "output_type": "stream",
     "text": [
      "False\n"
     ]
    }
   ],
   "source": [
    "print(10 == 9)"
   ]
  },
  {
   "cell_type": "code",
   "execution_count": 67,
   "metadata": {},
   "outputs": [
    {
     "name": "stdout",
     "output_type": "stream",
     "text": [
      "True\n"
     ]
    }
   ],
   "source": [
    "print(10==10)"
   ]
  },
  {
   "cell_type": "code",
   "execution_count": 68,
   "metadata": {
    "colab": {},
    "colab_type": "code",
    "id": "jGgdNUGJF9Rw",
    "outputId": "27b9aa82-0b3c-4b65-b67a-445d7027492a"
   },
   "outputs": [
    {
     "name": "stdout",
     "output_type": "stream",
     "text": [
      "False\n"
     ]
    }
   ],
   "source": [
    "print(10 < 9)"
   ]
  },
  {
   "cell_type": "markdown",
   "metadata": {
    "colab_type": "text",
    "id": "EVRWwplyWwPK"
   },
   "source": [
    "## **Type Conversion**\n",
    "Since Python is dynamically-typed, you may want to convert a value into another type. Python supports different type conversion functions like int(), float(), str() etc."
   ]
  },
  {
   "cell_type": "markdown",
   "metadata": {
    "colab_type": "text",
    "id": "boCcUiw1WwPK"
   },
   "source": [
    "#### float()\n",
    "It converts the passed value into a float."
   ]
  },
  {
   "cell_type": "code",
   "execution_count": 27,
   "metadata": {
    "colab": {},
    "colab_type": "code",
    "id": "rs0NOMBhWwPK",
    "outputId": "52da70b0-090c-4e56-9935-e14b68b2a703"
   },
   "outputs": [
    {
     "data": {
      "text/plain": [
       "11"
      ]
     },
     "execution_count": 27,
     "metadata": {},
     "output_type": "execute_result"
    }
   ],
   "source": [
    "int(11.7)"
   ]
  },
  {
   "cell_type": "markdown",
   "metadata": {
    "colab_type": "text",
    "id": "hz5JQDNDWwPM"
   },
   "source": [
    "You can turn a boolean into an float."
   ]
  },
  {
   "cell_type": "code",
   "execution_count": 70,
   "metadata": {
    "colab": {},
    "colab_type": "code",
    "id": "f7ha7y1HWwPM",
    "outputId": "0624d15b-8351-493b-9c1d-d000714b64da"
   },
   "outputs": [
    {
     "data": {
      "text/plain": [
       "1.0"
      ]
     },
     "execution_count": 70,
     "metadata": {},
     "output_type": "execute_result"
    }
   ],
   "source": [
    "float (True)"
   ]
  },
  {
   "cell_type": "code",
   "execution_count": 71,
   "metadata": {
    "colab": {},
    "colab_type": "code",
    "id": "yGg2az2cWwPN",
    "outputId": "44c3a792-a3d8-4a5b-baa3-98c2cc6cb807"
   },
   "outputs": [
    {
     "data": {
      "text/plain": [
       "0.0"
      ]
     },
     "execution_count": 71,
     "metadata": {},
     "output_type": "execute_result"
    }
   ],
   "source": [
    "float(False)"
   ]
  },
  {
   "cell_type": "markdown",
   "metadata": {
    "colab_type": "text",
    "id": "0-kWsn3OWwPP"
   },
   "source": [
    "You cannot turn a string into an float. It throws an error. However, if the string has only numbers, then you can."
   ]
  },
  {
   "cell_type": "code",
   "execution_count": 30,
   "metadata": {
    "colab": {},
    "colab_type": "code",
    "id": "VXcZNILHWwPP",
    "outputId": "5dd4ae2b-f9e0-4369-aaa5-1f49049554d8"
   },
   "outputs": [
    {
     "name": "stdout",
     "output_type": "stream",
     "text": [
      "<class 'float'>\n",
      "24.9\n"
     ]
    }
   ],
   "source": [
    "aaa=float(\"24.9\")\n",
    "print(type(aaa))\n",
    "print(aaa)"
   ]
  },
  {
   "cell_type": "code",
   "execution_count": 73,
   "metadata": {
    "colab": {},
    "colab_type": "code",
    "id": "RobCesd6WwPQ",
    "outputId": "02611a62-8a68-4042-a519-76a3b981976f"
   },
   "outputs": [
    {
     "data": {
      "text/plain": [
       "11.0"
      ]
     },
     "execution_count": 73,
     "metadata": {},
     "output_type": "execute_result"
    }
   ],
   "source": [
    "float(\"11\")"
   ]
  },
  {
   "cell_type": "code",
   "execution_count": 74,
   "metadata": {
    "colab": {},
    "colab_type": "code",
    "id": "YAl_VbkJWwPR",
    "outputId": "8ff813ee-0f8f-497a-8230-5a1d4749ba49"
   },
   "outputs": [
    {
     "data": {
      "text/plain": [
       "0.0224"
      ]
     },
     "execution_count": 74,
     "metadata": {},
     "output_type": "execute_result"
    }
   ],
   "source": [
    "# You can also use ‘e’ to denote an exponential number\n",
    "\n",
    "float(\"2.24e-2\")           # This number works even without the float() function"
   ]
  },
  {
   "cell_type": "markdown",
   "metadata": {
    "colab_type": "text",
    "id": "ECm0OUL8WwPS"
   },
   "source": [
    "#### int"
   ]
  },
  {
   "cell_type": "markdown",
   "metadata": {
    "colab_type": "text",
    "id": "PkU5JhzOWwPT"
   },
   "source": [
    "Conversion from float to int will round-off the value (make it closer to zero)."
   ]
  },
  {
   "cell_type": "code",
   "execution_count": 75,
   "metadata": {
    "colab": {},
    "colab_type": "code",
    "id": "D4zY6JVOWwPT",
    "outputId": "02024a67-3579-46ab-df41-000026f1439e"
   },
   "outputs": [
    {
     "data": {
      "text/plain": [
       "11"
      ]
     },
     "execution_count": 75,
     "metadata": {},
     "output_type": "execute_result"
    }
   ],
   "source": [
    "int(11.7)"
   ]
  },
  {
   "cell_type": "code",
   "execution_count": 76,
   "metadata": {
    "colab": {},
    "colab_type": "code",
    "id": "8jyuaJh6WwPU",
    "outputId": "c84a8406-e8fe-4a2e-b38e-d398c1051b5b"
   },
   "outputs": [
    {
     "data": {
      "text/plain": [
       "-11"
      ]
     },
     "execution_count": 76,
     "metadata": {},
     "output_type": "execute_result"
    }
   ],
   "source": [
    "int(-11.7)"
   ]
  },
  {
   "cell_type": "markdown",
   "metadata": {
    "colab_type": "text",
    "id": "fhMAZgkhWwPV"
   },
   "source": [
    " You can also turn a boolean into an int."
   ]
  },
  {
   "cell_type": "code",
   "execution_count": 77,
   "metadata": {
    "colab": {},
    "colab_type": "code",
    "id": "kMzj0ZoKWwPV",
    "outputId": "f0eec7ac-8f1b-45d9-8e96-d558420e94db"
   },
   "outputs": [
    {
     "data": {
      "text/plain": [
       "1"
      ]
     },
     "execution_count": 77,
     "metadata": {},
     "output_type": "execute_result"
    }
   ],
   "source": [
    "int(True)"
   ]
  },
  {
   "cell_type": "code",
   "execution_count": 78,
   "metadata": {
    "colab": {},
    "colab_type": "code",
    "id": "kNhtLwoLWwPW",
    "outputId": "ec1cfb8e-4380-4743-afa4-e3db7a743a5d"
   },
   "outputs": [
    {
     "data": {
      "text/plain": [
       "0"
      ]
     },
     "execution_count": 78,
     "metadata": {},
     "output_type": "execute_result"
    }
   ],
   "source": [
    "int(False)"
   ]
  },
  {
   "cell_type": "markdown",
   "metadata": {
    "colab_type": "text",
    "id": "fFIzQUxDWwPb"
   },
   "source": [
    "You cannot turn a string into an int. It throws an error. However, if the string has only numbers, then you can."
   ]
  },
  {
   "cell_type": "code",
   "execution_count": 79,
   "metadata": {
    "colab": {},
    "colab_type": "code",
    "id": "a1_NU2oRWwPb",
    "outputId": "9f98b2ec-fcca-4b0e-8cc0-7fbc0d3749a8"
   },
   "outputs": [
    {
     "ename": "ValueError",
     "evalue": "invalid literal for int() with base 10: 'GL'",
     "output_type": "error",
     "traceback": [
      "\u001b[1;31m---------------------------------------------------------------------------\u001b[0m",
      "\u001b[1;31mValueError\u001b[0m                                Traceback (most recent call last)",
      "\u001b[1;32m<ipython-input-79-d89bdf2bf359>\u001b[0m in \u001b[0;36m<module>\u001b[1;34m\u001b[0m\n\u001b[1;32m----> 1\u001b[1;33m \u001b[0mint\u001b[0m\u001b[1;33m(\u001b[0m\u001b[1;34m\"GL\"\u001b[0m\u001b[1;33m)\u001b[0m\u001b[1;33m\u001b[0m\u001b[1;33m\u001b[0m\u001b[0m\n\u001b[0m",
      "\u001b[1;31mValueError\u001b[0m: invalid literal for int() with base 10: 'GL'"
     ]
    }
   ],
   "source": [
    "int(\"GL\")"
   ]
  },
  {
   "cell_type": "code",
   "execution_count": 108,
   "metadata": {
    "colab": {},
    "colab_type": "code",
    "id": "NxvVDVzDWwPd",
    "outputId": "d1b13bba-82de-4ded-dfe5-33ab9d2a85e2"
   },
   "outputs": [
    {
     "data": {
      "text/plain": [
       "11"
      ]
     },
     "execution_count": 108,
     "metadata": {},
     "output_type": "execute_result"
    }
   ],
   "source": [
    "int(\"11\")"
   ]
  },
  {
   "cell_type": "code",
   "execution_count": 111,
   "metadata": {},
   "outputs": [
    {
     "name": "stdout",
     "output_type": "stream",
     "text": [
      "105\n"
     ]
    }
   ],
   "source": [
    "a=\"10\"\n",
    "b=\"5\"\n",
    "c = a+b\n",
    "print(int(c))"
   ]
  },
  {
   "cell_type": "markdown",
   "metadata": {
    "colab_type": "text",
    "id": "AxKlwSvEWwPe"
   },
   "source": [
    "#### str()\n",
    "<em>str()</em> converts the value into a string."
   ]
  },
  {
   "cell_type": "code",
   "execution_count": 81,
   "metadata": {
    "colab": {},
    "colab_type": "code",
    "id": "msQLpozMWwPi",
    "outputId": "9660292a-0797-40fd-d86e-b1ca9ff0061b"
   },
   "outputs": [
    {
     "data": {
      "text/plain": [
       "'2.24'"
      ]
     },
     "execution_count": 81,
     "metadata": {},
     "output_type": "execute_result"
    }
   ],
   "source": [
    "str(2.24)"
   ]
  },
  {
   "cell_type": "code",
   "execution_count": 82,
   "metadata": {
    "colab": {},
    "colab_type": "code",
    "id": "e2YVfksDWwPj",
    "outputId": "2af0a4bd-9d42-4c8c-c0fb-71cf92609a0a"
   },
   "outputs": [
    {
     "data": {
      "text/plain": [
       "'True'"
      ]
     },
     "execution_count": 82,
     "metadata": {},
     "output_type": "execute_result"
    }
   ],
   "source": [
    "str(True)"
   ]
  },
  {
   "cell_type": "code",
   "execution_count": 83,
   "metadata": {
    "colab": {},
    "colab_type": "code",
    "id": "RgXqM5RxWwPk",
    "outputId": "f78179c0-6e6f-4b50-e857-5bc837bfa320"
   },
   "outputs": [
    {
     "data": {
      "text/plain": [
       "'False'"
      ]
     },
     "execution_count": 83,
     "metadata": {},
     "output_type": "execute_result"
    }
   ],
   "source": [
    "str(False)"
   ]
  },
  {
   "cell_type": "code",
   "execution_count": 84,
   "metadata": {
    "colab": {},
    "colab_type": "code",
    "id": "owVkbQJDWwPm",
    "outputId": "b2bdddec-fcca-4b2b-f8ae-d79887f65502"
   },
   "outputs": [
    {
     "data": {
      "text/plain": [
       "'10'"
      ]
     },
     "execution_count": 84,
     "metadata": {},
     "output_type": "execute_result"
    }
   ],
   "source": [
    "str(10)"
   ]
  },
  {
   "cell_type": "markdown",
   "metadata": {
    "colab_type": "text",
    "id": "MnsdtyNjWwQB"
   },
   "source": [
    "## **User Input**"
   ]
  },
  {
   "cell_type": "markdown",
   "metadata": {
    "colab_type": "text",
    "id": "N4He5BZIWwQE"
   },
   "source": [
    "The Python input() function is used to read data from a standard input such as a keyboard and treats the received data as a string. When we enter a digit value, input() in python 3 stores it as a string value. So to convert string value to integer value, we will use the int() function just as shown below."
   ]
  },
  {
   "cell_type": "code",
   "execution_count": 34,
   "metadata": {},
   "outputs": [
    {
     "name": "stdout",
     "output_type": "stream",
     "text": [
      "ENTER NUM 4\n"
     ]
    },
    {
     "data": {
      "text/plain": [
       "4"
      ]
     },
     "execution_count": 34,
     "metadata": {},
     "output_type": "execute_result"
    }
   ],
   "source": [
    "int(input(\"ENTER NUM\"))"
   ]
  },
  {
   "cell_type": "code",
   "execution_count": 39,
   "metadata": {},
   "outputs": [
    {
     "data": {
      "text/plain": [
       "False"
      ]
     },
     "execution_count": 39,
     "metadata": {},
     "output_type": "execute_result"
    }
   ],
   "source": [
    "a=10\n",
    "b=10\n",
    "a is not b"
   ]
  },
  {
   "cell_type": "code",
   "execution_count": 23,
   "metadata": {
    "colab": {},
    "colab_type": "code",
    "id": "WIai9bzpWwQE",
    "outputId": "27c26d04-beff-436c-c622-e39189d6b35d"
   },
   "outputs": [
    {
     "name": "stdout",
     "output_type": "stream",
     "text": [
      "Please enter your age: 2\n",
      "2\n"
     ]
    },
    {
     "data": {
      "text/plain": [
       "int"
      ]
     },
     "execution_count": 23,
     "metadata": {},
     "output_type": "execute_result"
    }
   ],
   "source": [
    "age = int(input(\"Please enter your age: \"))\n",
    "print(age)\n",
    "type(age)"
   ]
  },
  {
   "cell_type": "code",
   "execution_count": 25,
   "metadata": {
    "colab": {},
    "colab_type": "code",
    "id": "DHy3Eo3KWwQF",
    "outputId": "47766786-31fd-4870-d598-4db5cabde973"
   },
   "outputs": [
    {
     "name": "stdout",
     "output_type": "stream",
     "text": [
      "Please enter your name: asim\n",
      "asim\n"
     ]
    },
    {
     "data": {
      "text/plain": [
       "str"
      ]
     },
     "execution_count": 25,
     "metadata": {},
     "output_type": "execute_result"
    }
   ],
   "source": [
    "name = input(\"Please enter your name: \")\n",
    "print(name)\n",
    "type(name)"
   ]
  },
  {
   "cell_type": "code",
   "execution_count": 26,
   "metadata": {},
   "outputs": [
    {
     "name": "stdout",
     "output_type": "stream",
     "text": [
      "enter a number 1 20\n",
      "enter a number 2 30\n",
      "sum =  50\n"
     ]
    }
   ],
   "source": [
    "#num = 30 \n",
    "#single line comment\n",
    "\"\"\"\n",
    "print(num) # multiple fuunction called dilimeter\n",
    "30 \n",
    "\"\"\"\n",
    "num1=int(input(\"enter a number 1 \"))\n",
    "num2=int(input(\"enter a number 2 \"))\n",
    "print(\"sum = \",num1+num2)\n"
   ]
  },
  {
   "cell_type": "markdown",
   "metadata": {
    "colab_type": "text",
    "id": "Wev9Kx6-WwQH"
   },
   "source": [
    "When the <em>input()</em> function executes program flow will be stopped until the user has given input. The message displayed on the output screen to ask a user to enter an input value is optional i.e. the prompt, which will be printed on the screen is optional.\n",
    "Whatever you enter as input, the input function converts it into a string. if you enter an integer value still input() function converts it into a string. You need to explicitly convert it into an integer in your code using typecasting."
   ]
  },
  {
   "cell_type": "markdown",
   "metadata": {
    "colab_type": "text",
    "id": "TgPxKm5oWwQH"
   },
   "source": [
    "## **Python Operators**"
   ]
  },
  {
   "cell_type": "markdown",
   "metadata": {
    "colab_type": "text",
    "id": "-Ta6RTyDWwQI"
   },
   "source": [
    "### **Arithmetic Operator**\n",
    "Arithmetic operators are used to perform mathematical operations like addition, subtraction, multiplication etc."
   ]
  },
  {
   "cell_type": "code",
   "execution_count": 27,
   "metadata": {
    "colab": {},
    "colab_type": "code",
    "id": "Q-pEFy-BWwQI",
    "outputId": "7115131f-0b80-4e07-ad31-4a338867dc69"
   },
   "outputs": [
    {
     "name": "stdout",
     "output_type": "stream",
     "text": [
      "a + b = 18\n",
      "a - b = 14\n",
      "a * b = 32\n",
      "a % b = 0\n",
      "a / b = 8.0\n",
      "a // b = 8\n",
      "a ** b = 256\n"
     ]
    }
   ],
   "source": [
    "a = 16\n",
    "b = 2\n",
    "# '+' operator\n",
    "print('a + b =',a+b)                  # Prints addition of a and b\n",
    "\n",
    "# '-' operator\n",
    "print('a - b =',a-b)                  # Prints subtraction of  a and b\n",
    "\n",
    "# '*' operator\n",
    "print('a * b =',a*b)                  # Prints multiplication of  a and b\n",
    "\n",
    "# '%' operator\n",
    "print('a % b =',a%b)                  # Prints remainder of division between a and b\n",
    "\n",
    "# '/' operator\n",
    "print('a / b =',a/b)                  # Prints division of  a and b\n",
    "\n",
    "# '//' operator\n",
    "print('a // b =',a//b)                # Prints the interger value of the division between a and b \n",
    "\n",
    "# '**' operator\n",
    "print('a ** b =',a**b)                # Prints the result of a to the power b"
   ]
  },
  {
   "cell_type": "markdown",
   "metadata": {
    "colab_type": "text",
    "id": "5E-kgOQyWwQJ"
   },
   "source": [
    "### **Comparison Operator**\n",
    "Comparison Operator carries out the comparison between operands. They tell us whether an operand is greater than the other, lesser, equal, or a combination of those. It either returns <em>True</em> or <em>False</em> according to the condition."
   ]
  },
  {
   "cell_type": "code",
   "execution_count": 28,
   "metadata": {
    "colab": {},
    "colab_type": "code",
    "id": "ei8_yWjXWwQJ",
    "outputId": "6b6a8d5f-79f2-4004-f746-d12e8e0d3296"
   },
   "outputs": [
    {
     "name": "stdout",
     "output_type": "stream",
     "text": [
      "a > b  is False\n",
      "a < b  is True\n",
      "a == b  is False\n",
      "a != b  is True\n",
      "a >= b  is False\n",
      "a <= b  is True\n"
     ]
    }
   ],
   "source": [
    "a = 10\n",
    "b = 20\n",
    "\n",
    "# '>' operator\n",
    "print('a > b  is',a>b)                 # Prints False since a is smaller than b\n",
    "\n",
    "# '<' operator\n",
    "print('a < b  is',a<b)                 # Prints True since a is smaller than b\n",
    "\n",
    "# '==' operator\n",
    "print('a == b  is',a==b)               # Prints False since a and b are not equal\n",
    "\n",
    "# '!=' operator\n",
    "print('a != b  is',a!=b)               # Prints True since a is not equal to b\n",
    "\n",
    "# '>=' operator\n",
    "print('a >= b  is',a>=b)               # Prints False since a is not smaller nor equal to b\n",
    "\n",
    "# '<= y' operator\n",
    "print('a <= b  is',a<=b)               # Prints True since a is smaller than b"
   ]
  },
  {
   "cell_type": "markdown",
   "metadata": {
    "colab_type": "text",
    "id": "DHAWZfnRWwQL"
   },
   "source": [
    "### **Assignment Operator**\n",
    "An assignment operator assigns a value to a variable. It may manipulate the value by a factor before assigning it."
   ]
  },
  {
   "cell_type": "code",
   "execution_count": 29,
   "metadata": {
    "colab": {},
    "colab_type": "code",
    "id": "7WeHVcSIWwQL",
    "outputId": "caf34cf1-cc91-4622-e511-214f4a26d833"
   },
   "outputs": [
    {
     "name": "stdout",
     "output_type": "stream",
     "text": [
      "x =  5\n",
      "Updated value of x after (x += 5) is 10\n",
      "Updated value of x after (x -=2) is 8\n",
      "Updated value of x after (x *= 2) is 16\n",
      "Updated value of x after (x /= 4) is 4.0\n"
     ]
    }
   ],
   "source": [
    "# '=' operator\n",
    "x = 5                                               # Assigns the value to the variable on the left\n",
    "print(\"x = \", x)\n",
    "\n",
    "# '+=' operator                 \n",
    "x += 5 \n",
    "print(\"Updated value of x after (x += 5) is\", x)    # Adds the values on either side and assigns them to the expression on the left. x+=5 is the same as x=x+5\n",
    "\n",
    "# '-=' operator\n",
    "x -=2\n",
    "print(\"Updated value of x after (x -=2) is\", x)     # Subtracts 2 from the latest value of x and assigns it to x(which is 10)\n",
    "\n",
    "# '*=' operator\n",
    "x *= 2\n",
    "print(\"Updated value of x after (x *= 2) is\", x)    # Multiplies the current value of x with 2 and assigns the result to the same variable\n",
    "\n",
    "# '/=' operator\n",
    "x /= 4 \n",
    "print('Updated value of x after (x /= 4) is', x)    # Divides the current value of x with 4 and assigns the result to the same variable"
   ]
  },
  {
   "cell_type": "code",
   "execution_count": 114,
   "metadata": {},
   "outputs": [
    {
     "name": "stdout",
     "output_type": "stream",
     "text": [
      "22\n",
      "20\n",
      "40\n",
      "20.0\n",
      "0.0\n"
     ]
    }
   ],
   "source": [
    "x=20\n",
    "x += 2\n",
    "print(x)#x==12\n",
    "\n",
    "x -= 2\n",
    "print(x) #10\n",
    "\n",
    "x *= 2\n",
    "print(x) #20\n",
    "\n",
    "x /= 2\n",
    "print(x) #10.0\n",
    "\n",
    "x %= 2\n",
    "print(x)\n"
   ]
  },
  {
   "cell_type": "code",
   "execution_count": 116,
   "metadata": {},
   "outputs": [
    {
     "name": "stdout",
     "output_type": "stream",
     "text": [
      "5.0\n"
     ]
    }
   ],
   "source": [
    "z1 = 10\n",
    "z1 /= 2\n",
    "print(z1)"
   ]
  },
  {
   "cell_type": "markdown",
   "metadata": {
    "colab_type": "text",
    "id": "KhOFmuWmWwQM"
   },
   "source": [
    "<em>i+=1 is the same as i=i+1, whereas i=+1 just means i=(+1)</em>"
   ]
  },
  {
   "cell_type": "markdown",
   "metadata": {
    "colab_type": "text",
    "id": "OeuiSmbLWwQM"
   },
   "source": [
    "### **Logical Operators**\n",
    "Logical operators are like conjunctions that you can use to combine more than one condition. We have three Python logical operator – **<em>and</em>**, **<em>or</em>**, and **<em>not</em>** that come under python operators."
   ]
  },
  {
   "cell_type": "markdown",
   "metadata": {
    "colab_type": "text",
    "id": "_8T3z6drWwQM"
   },
   "source": [
    "#### 'and' Operator\n",
    "If the conditions on both the sides of the operator are true, then the expression as a whole is true."
   ]
  },
  {
   "cell_type": "code",
   "execution_count": 117,
   "metadata": {
    "colab": {},
    "colab_type": "code",
    "id": "vvanF5POWwQM",
    "outputId": "b14d031c-1c4a-4373-9279-40ab376eead0"
   },
   "outputs": [
    {
     "name": "stdout",
     "output_type": "stream",
     "text": [
      "True\n"
     ]
    }
   ],
   "source": [
    "x = 11\n",
    "a = x>10 and x<20\n",
    "print(a)"
   ]
  },
  {
   "cell_type": "markdown",
   "metadata": {
    "colab_type": "text",
    "id": "moUtA-A7WwQN"
   },
   "source": [
    "Here both the conditions are satisfied. Therefore we have True as the output."
   ]
  },
  {
   "cell_type": "code",
   "execution_count": 118,
   "metadata": {
    "colab": {},
    "colab_type": "code",
    "id": "vCxHTtWpWwQN",
    "outputId": "5d3d2265-93ca-47f0-f89b-8c4004d6d8c9"
   },
   "outputs": [
    {
     "name": "stdout",
     "output_type": "stream",
     "text": [
      "False\n"
     ]
    }
   ],
   "source": [
    "x = 11\n",
    "a = x>10 and x==12\n",
    "print(a)"
   ]
  },
  {
   "cell_type": "markdown",
   "metadata": {
    "colab_type": "text",
    "id": "_JFu5BW1WwQO"
   },
   "source": [
    "Here one of the condition is not satisfied. Therefore we have False as the output."
   ]
  },
  {
   "cell_type": "markdown",
   "metadata": {
    "colab_type": "text",
    "id": "ZJaxiiqkWwQO"
   },
   "source": [
    "#### 'or' Operator\n",
    "The expression is false only if both the statements around the operator are false. Otherwise, it is true."
   ]
  },
  {
   "cell_type": "code",
   "execution_count": 119,
   "metadata": {
    "colab": {},
    "colab_type": "code",
    "id": "96UjEwpGWwQO",
    "outputId": "03265f67-9be8-4aad-ff98-c0a1677596c0"
   },
   "outputs": [
    {
     "name": "stdout",
     "output_type": "stream",
     "text": [
      "True\n"
     ]
    }
   ],
   "source": [
    "x = 11\n",
    "a = x>10 or x==20\n",
    "print(a)"
   ]
  },
  {
   "cell_type": "markdown",
   "metadata": {
    "colab_type": "text",
    "id": "8veZvQOoWwQP"
   },
   "source": [
    "Here one of the condition is satisfied. Therefore we have True as the output."
   ]
  },
  {
   "cell_type": "code",
   "execution_count": 120,
   "metadata": {
    "colab": {},
    "colab_type": "code",
    "id": "uVnlov7rWwQP",
    "outputId": "ec5230e5-8cb8-4cf5-a872-ddd653404b01"
   },
   "outputs": [
    {
     "name": "stdout",
     "output_type": "stream",
     "text": [
      "False\n"
     ]
    }
   ],
   "source": [
    "x = 11\n",
    "a = x>12 or x==20\n",
    "print(a)"
   ]
  },
  {
   "cell_type": "markdown",
   "metadata": {
    "colab_type": "text",
    "id": "WZFPqv9AWwQQ"
   },
   "source": [
    "None of the above condition is True. Therefore we have False as the output"
   ]
  },
  {
   "cell_type": "markdown",
   "metadata": {},
   "source": [
    "#### 'not' Operator"
   ]
  },
  {
   "cell_type": "code",
   "execution_count": 122,
   "metadata": {},
   "outputs": [
    {
     "name": "stdout",
     "output_type": "stream",
     "text": [
      "The number is not zero.\n"
     ]
    }
   ],
   "source": [
    "number = 42\n",
    "\n",
    "# Using not to check if the number is not equal to 0\n",
    "if not number == 0:\n",
    "    print(\"The number is not zero.\")\n",
    "else:\n",
    "    print(\"The number is zero.\")\n"
   ]
  },
  {
   "cell_type": "markdown",
   "metadata": {},
   "source": [
    "# Special Operators\n",
    "   They are of two types\n",
    "   1)Identity Operators:contain is and is not\n",
    "   2)membership ooperators :in and in not"
   ]
  },
  {
   "cell_type": "code",
   "execution_count": 128,
   "metadata": {},
   "outputs": [
    {
     "name": "stdout",
     "output_type": "stream",
     "text": [
      "True\n"
     ]
    }
   ],
   "source": [
    "a = [1, 2, 3]\n",
    "b = a\n",
    "print(a is b)  "
   ]
  },
  {
   "cell_type": "code",
   "execution_count": 129,
   "metadata": {},
   "outputs": [
    {
     "name": "stdout",
     "output_type": "stream",
     "text": [
      "True\n"
     ]
    }
   ],
   "source": [
    "a = [1, 2, 3]\n",
    "b = [1, 2, 3]\n",
    "print(a is not b)  \n"
   ]
  },
  {
   "cell_type": "code",
   "execution_count": 35,
   "metadata": {},
   "outputs": [
    {
     "name": "stdout",
     "output_type": "stream",
     "text": [
      "True\n",
      "False\n",
      "True\n"
     ]
    }
   ],
   "source": [
    "#special operators\n",
    "a=\"python programming\"\n",
    "b=\"python programming\"\n",
    "c=\"programming in simple way\"\n",
    "print(a is not b)\n",
    "print(a is b)\n",
    "print(a is not c)"
   ]
  },
  {
   "cell_type": "code",
   "execution_count": 36,
   "metadata": {},
   "outputs": [
    {
     "name": "stdout",
     "output_type": "stream",
     "text": [
      "True\n"
     ]
    }
   ],
   "source": [
    "#membership operator\n",
    "c=\"python programming in simple way\"\n",
    "print(\"in\" in c)"
   ]
  },
  {
   "cell_type": "code",
   "execution_count": 37,
   "metadata": {},
   "outputs": [
    {
     "name": "stdout",
     "output_type": "stream",
     "text": [
      "False\n"
     ]
    }
   ],
   "source": [
    "print(\"are\" in c)"
   ]
  },
  {
   "cell_type": "code",
   "execution_count": 38,
   "metadata": {},
   "outputs": [
    {
     "name": "stdout",
     "output_type": "stream",
     "text": [
      "True\n"
     ]
    }
   ],
   "source": [
    "print(\"are\" not in c)"
   ]
  },
  {
   "cell_type": "code",
   "execution_count": 39,
   "metadata": {},
   "outputs": [
    {
     "name": "stdout",
     "output_type": "stream",
     "text": [
      "False\n"
     ]
    }
   ],
   "source": [
    "print(\"programming\" not in c)"
   ]
  },
  {
   "cell_type": "code",
   "execution_count": 41,
   "metadata": {},
   "outputs": [],
   "source": [
    "paragraph = \"This planet has - or rather had - a problem, which was \\\n",
    "this: most of the people living on it were unhappy for pretty much \\\n",
    "of the time. Many solutions were suggested for this problem, but \\\n",
    "most of these were largely concerned with the movements of small \\\n",
    "green pieces of paper, which is odd because on the whole it wasn't \\\n",
    "the small green pieces of paper that were unhappy.\"\n"
   ]
  },
  {
   "cell_type": "code",
   "execution_count": 43,
   "metadata": {},
   "outputs": [
    {
     "name": "stdout",
     "output_type": "stream",
     "text": [
      "False\n"
     ]
    }
   ],
   "source": [
    "print(\"unhappy\" not in paragraph)"
   ]
  },
  {
   "cell_type": "code",
   "execution_count": 124,
   "metadata": {},
   "outputs": [
    {
     "name": "stdout",
     "output_type": "stream",
     "text": [
      "False\n"
     ]
    }
   ],
   "source": [
    "print(\"pakistan\" in paragraph)"
   ]
  },
  {
   "cell_type": "code",
   "execution_count": null,
   "metadata": {},
   "outputs": [],
   "source": []
  }
 ],
 "metadata": {
  "colab": {
   "name": "Faculty_notebook (Day 1)  [v1.0 - 030120].ipynb",
   "provenance": []
  },
  "kernelspec": {
   "display_name": "Python 3",
   "language": "python",
   "name": "python3"
  },
  "language_info": {
   "codemirror_mode": {
    "name": "ipython",
    "version": 3
   },
   "file_extension": ".py",
   "mimetype": "text/x-python",
   "name": "python",
   "nbconvert_exporter": "python",
   "pygments_lexer": "ipython3",
   "version": "3.12.10"
  }
 },
 "nbformat": 4,
 "nbformat_minor": 4
}
