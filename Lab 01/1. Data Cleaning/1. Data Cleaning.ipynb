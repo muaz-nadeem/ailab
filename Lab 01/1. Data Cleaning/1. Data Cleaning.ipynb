{
 "cells": [
  {
   "cell_type": "markdown",
   "metadata": {},
   "source": [
    "# Data Cleaning"
   ]
  },
  {
   "cell_type": "markdown",
   "metadata": {},
   "source": [
    "## 1. Imputing Missing Values"
   ]
  },
  {
   "cell_type": "markdown",
   "metadata": {},
   "source": [
    " Missing values, occur when no data value is stored for the variable in an observation. \n",
    " \n",
    " The problem of missing data is relatively common in almost all research and can have a significant effect on the conclusions that can be drawn from the data, the lost data can cause bias in the estimation of parameters or it can also reduce the representativeness of the samples."
   ]
  },
  {
   "cell_type": "code",
   "execution_count": 10,
   "metadata": {},
   "outputs": [
    {
     "name": "stdout",
     "output_type": "stream",
     "text": [
      "Dataset loaded successfully.\n",
      "   Unnamed: 0      ID               Name  Age  \\\n",
      "0           0  158023           L. Messi   31   \n",
      "1           1   20801  Cristiano Ronaldo   33   \n",
      "2           2  190871          Neymar Jr   26   \n",
      "3           3  193080             De Gea   27   \n",
      "4           4  192985       K. De Bruyne   27   \n",
      "\n",
      "                                            Photo Nationality  \\\n",
      "0  https://cdn.sofifa.org/players/4/19/158023.png   Argentina   \n",
      "1   https://cdn.sofifa.org/players/4/19/20801.png    Portugal   \n",
      "2  https://cdn.sofifa.org/players/4/19/190871.png      Brazil   \n",
      "3  https://cdn.sofifa.org/players/4/19/193080.png       Spain   \n",
      "4  https://cdn.sofifa.org/players/4/19/192985.png     Belgium   \n",
      "\n",
      "                                  Flag  Overall  Potential  \\\n",
      "0  https://cdn.sofifa.org/flags/52.png       94         94   \n",
      "1  https://cdn.sofifa.org/flags/38.png       94         94   \n",
      "2  https://cdn.sofifa.org/flags/54.png       92         93   \n",
      "3  https://cdn.sofifa.org/flags/45.png       91         93   \n",
      "4   https://cdn.sofifa.org/flags/7.png       91         92   \n",
      "\n",
      "                  Club  ... Composure Marking StandingTackle  SlidingTackle  \\\n",
      "0         FC Barcelona  ...      96.0    33.0           28.0           26.0   \n",
      "1             Juventus  ...      95.0    28.0           31.0           23.0   \n",
      "2  Paris Saint-Germain  ...      94.0    27.0           24.0           33.0   \n",
      "3    Manchester United  ...      68.0    15.0           21.0           13.0   \n",
      "4      Manchester City  ...      88.0    68.0           58.0           51.0   \n",
      "\n",
      "  GKDiving  GKHandling  GKKicking  GKPositioning GKReflexes Release Clause  \n",
      "0      6.0        11.0       15.0           14.0        8.0        €226.5M  \n",
      "1      7.0        11.0       15.0           14.0       11.0        €127.1M  \n",
      "2      9.0         9.0       15.0           15.0       11.0        €228.1M  \n",
      "3     90.0        85.0       87.0           88.0       94.0        €138.6M  \n",
      "4     15.0        13.0        5.0           10.0       13.0        €196.4M  \n",
      "\n",
      "[5 rows x 89 columns]\n",
      "<class 'pandas.core.frame.DataFrame'>\n",
      "RangeIndex: 18207 entries, 0 to 18206\n",
      "Data columns (total 89 columns):\n",
      " #   Column                    Non-Null Count  Dtype  \n",
      "---  ------                    --------------  -----  \n",
      " 0   Unnamed: 0                18207 non-null  int64  \n",
      " 1   ID                        18207 non-null  int64  \n",
      " 2   Name                      18207 non-null  object \n",
      " 3   Age                       18207 non-null  int64  \n",
      " 4   Photo                     18207 non-null  object \n",
      " 5   Nationality               18207 non-null  object \n",
      " 6   Flag                      18207 non-null  object \n",
      " 7   Overall                   18207 non-null  int64  \n",
      " 8   Potential                 18207 non-null  int64  \n",
      " 9   Club                      17966 non-null  object \n",
      " 10  Club Logo                 18207 non-null  object \n",
      " 11  Value                     18207 non-null  object \n",
      " 12  Wage                      18207 non-null  object \n",
      " 13  Special                   18207 non-null  int64  \n",
      " 14  Preferred Foot            18159 non-null  object \n",
      " 15  International Reputation  18159 non-null  float64\n",
      " 16  Weak Foot                 18159 non-null  float64\n",
      " 17  Skill Moves               18159 non-null  float64\n",
      " 18  Work Rate                 18159 non-null  object \n",
      " 19  Body Type                 18159 non-null  object \n",
      " 20  Real Face                 18159 non-null  object \n",
      " 21  Position                  18147 non-null  object \n",
      " 22  Jersey Number             18147 non-null  float64\n",
      " 23  Joined                    16654 non-null  object \n",
      " 24  Loaned From               1264 non-null   object \n",
      " 25  Contract Valid Until      17918 non-null  object \n",
      " 26  Height                    18159 non-null  object \n",
      " 27  Weight                    18159 non-null  object \n",
      " 28  LS                        16122 non-null  object \n",
      " 29  ST                        16122 non-null  object \n",
      " 30  RS                        16122 non-null  object \n",
      " 31  LW                        16122 non-null  object \n",
      " 32  LF                        16122 non-null  object \n",
      " 33  CF                        16122 non-null  object \n",
      " 34  RF                        16122 non-null  object \n",
      " 35  RW                        16122 non-null  object \n",
      " 36  LAM                       16122 non-null  object \n",
      " 37  CAM                       16122 non-null  object \n",
      " 38  RAM                       16122 non-null  object \n",
      " 39  LM                        16122 non-null  object \n",
      " 40  LCM                       16122 non-null  object \n",
      " 41  CM                        16122 non-null  object \n",
      " 42  RCM                       16122 non-null  object \n",
      " 43  RM                        16122 non-null  object \n",
      " 44  LWB                       16122 non-null  object \n",
      " 45  LDM                       16122 non-null  object \n",
      " 46  CDM                       16122 non-null  object \n",
      " 47  RDM                       16122 non-null  object \n",
      " 48  RWB                       16122 non-null  object \n",
      " 49  LB                        16122 non-null  object \n",
      " 50  LCB                       16122 non-null  object \n",
      " 51  CB                        16122 non-null  object \n",
      " 52  RCB                       16122 non-null  object \n",
      " 53  RB                        16122 non-null  object \n",
      " 54  Crossing                  18159 non-null  float64\n",
      " 55  Finishing                 18159 non-null  float64\n",
      " 56  HeadingAccuracy           18159 non-null  float64\n",
      " 57  ShortPassing              18159 non-null  float64\n",
      " 58  Volleys                   18159 non-null  float64\n",
      " 59  Dribbling                 18159 non-null  float64\n",
      " 60  Curve                     18159 non-null  float64\n",
      " 61  FKAccuracy                18159 non-null  float64\n",
      " 62  LongPassing               18159 non-null  float64\n",
      " 63  BallControl               18159 non-null  float64\n",
      " 64  Acceleration              18159 non-null  float64\n",
      " 65  SprintSpeed               18159 non-null  float64\n",
      " 66  Agility                   18159 non-null  float64\n",
      " 67  Reactions                 18159 non-null  float64\n",
      " 68  Balance                   18159 non-null  float64\n",
      " 69  ShotPower                 18159 non-null  float64\n",
      " 70  Jumping                   18159 non-null  float64\n",
      " 71  Stamina                   18159 non-null  float64\n",
      " 72  Strength                  18159 non-null  float64\n",
      " 73  LongShots                 18159 non-null  float64\n",
      " 74  Aggression                18159 non-null  float64\n",
      " 75  Interceptions             18159 non-null  float64\n",
      " 76  Positioning               18159 non-null  float64\n",
      " 77  Vision                    18159 non-null  float64\n",
      " 78  Penalties                 18159 non-null  float64\n",
      " 79  Composure                 18159 non-null  float64\n",
      " 80  Marking                   18159 non-null  float64\n",
      " 81  StandingTackle            18159 non-null  float64\n",
      " 82  SlidingTackle             18159 non-null  float64\n",
      " 83  GKDiving                  18159 non-null  float64\n",
      " 84  GKHandling                18159 non-null  float64\n",
      " 85  GKKicking                 18159 non-null  float64\n",
      " 86  GKPositioning             18159 non-null  float64\n",
      " 87  GKReflexes                18159 non-null  float64\n",
      " 88  Release Clause            16643 non-null  object \n",
      "dtypes: float64(38), int64(6), object(45)\n",
      "memory usage: 12.4+ MB\n",
      "None\n"
     ]
    }
   ],
   "source": [
    "# Import libraries\n",
    "import pandas as pd\n",
    "import numpy as np\n",
    "import seaborn as sns\n",
    "import matplotlib.pyplot as plt\n",
    "# Load the dataset with error handling\n",
    "try:\n",
    "    data3 = pd.read_csv(\"fifa.csv\")\n",
    "    print(\"Dataset loaded successfully.\")\n",
    "except FileNotFoundError:\n",
    "    print(\"Error: fifa.csv not found. Ensure it's in the current directory.\")\n",
    "# Display first few rows and info\n",
    "print(data3.head())\n",
    "print(data3.info())  # Shows data types and non-null counts"
   ]
  },
  {
   "cell_type": "code",
   "execution_count": 9,
   "metadata": {},
   "outputs": [
    {
     "data": {
      "text/plain": [
       "Unnamed: 0          int64\n",
       "ID                  int64\n",
       "Name               object\n",
       "Age                 int64\n",
       "Photo              object\n",
       "                   ...   \n",
       "GKHandling        float64\n",
       "GKKicking         float64\n",
       "GKPositioning     float64\n",
       "GKReflexes        float64\n",
       "Release Clause     object\n",
       "Length: 89, dtype: object"
      ]
     },
     "execution_count": 9,
     "metadata": {},
     "output_type": "execute_result"
    }
   ],
   "source": [
    "data3.dtypes"
   ]
  },
  {
   "cell_type": "code",
   "execution_count": 19,
   "metadata": {},
   "outputs": [
    {
     "data": {
      "text/html": [
       "<div>\n",
       "<style scoped>\n",
       "    .dataframe tbody tr th:only-of-type {\n",
       "        vertical-align: middle;\n",
       "    }\n",
       "\n",
       "    .dataframe tbody tr th {\n",
       "        vertical-align: top;\n",
       "    }\n",
       "\n",
       "    .dataframe thead th {\n",
       "        text-align: right;\n",
       "    }\n",
       "</style>\n",
       "<table border=\"1\" class=\"dataframe\">\n",
       "  <thead>\n",
       "    <tr style=\"text-align: right;\">\n",
       "      <th></th>\n",
       "      <th>Unnamed: 0</th>\n",
       "      <th>ID</th>\n",
       "      <th>Age</th>\n",
       "      <th>Overall</th>\n",
       "      <th>Potential</th>\n",
       "      <th>Special</th>\n",
       "      <th>International Reputation</th>\n",
       "      <th>Weak Foot</th>\n",
       "      <th>Skill Moves</th>\n",
       "      <th>Jersey Number</th>\n",
       "      <th>...</th>\n",
       "      <th>Penalties</th>\n",
       "      <th>Composure</th>\n",
       "      <th>Marking</th>\n",
       "      <th>StandingTackle</th>\n",
       "      <th>SlidingTackle</th>\n",
       "      <th>GKDiving</th>\n",
       "      <th>GKHandling</th>\n",
       "      <th>GKKicking</th>\n",
       "      <th>GKPositioning</th>\n",
       "      <th>GKReflexes</th>\n",
       "    </tr>\n",
       "  </thead>\n",
       "  <tbody>\n",
       "    <tr>\n",
       "      <th>count</th>\n",
       "      <td>18207.000000</td>\n",
       "      <td>18207.000000</td>\n",
       "      <td>18207.000000</td>\n",
       "      <td>18207.000000</td>\n",
       "      <td>18207.000000</td>\n",
       "      <td>18207.000000</td>\n",
       "      <td>18159.000000</td>\n",
       "      <td>18159.000000</td>\n",
       "      <td>18159.000000</td>\n",
       "      <td>18147.000000</td>\n",
       "      <td>...</td>\n",
       "      <td>18159.000000</td>\n",
       "      <td>18159.000000</td>\n",
       "      <td>18159.000000</td>\n",
       "      <td>18159.000000</td>\n",
       "      <td>18159.000000</td>\n",
       "      <td>18159.000000</td>\n",
       "      <td>18159.000000</td>\n",
       "      <td>18159.000000</td>\n",
       "      <td>18159.000000</td>\n",
       "      <td>18159.000000</td>\n",
       "    </tr>\n",
       "    <tr>\n",
       "      <th>mean</th>\n",
       "      <td>9103.000000</td>\n",
       "      <td>214298.338606</td>\n",
       "      <td>25.122206</td>\n",
       "      <td>66.238699</td>\n",
       "      <td>71.307299</td>\n",
       "      <td>1597.809908</td>\n",
       "      <td>1.113222</td>\n",
       "      <td>2.947299</td>\n",
       "      <td>2.361308</td>\n",
       "      <td>19.546096</td>\n",
       "      <td>...</td>\n",
       "      <td>48.548598</td>\n",
       "      <td>58.648274</td>\n",
       "      <td>47.281623</td>\n",
       "      <td>47.697836</td>\n",
       "      <td>45.661435</td>\n",
       "      <td>16.616223</td>\n",
       "      <td>16.391596</td>\n",
       "      <td>16.232061</td>\n",
       "      <td>16.388898</td>\n",
       "      <td>16.710887</td>\n",
       "    </tr>\n",
       "    <tr>\n",
       "      <th>std</th>\n",
       "      <td>5256.052511</td>\n",
       "      <td>29965.244204</td>\n",
       "      <td>4.669943</td>\n",
       "      <td>6.908930</td>\n",
       "      <td>6.136496</td>\n",
       "      <td>272.586016</td>\n",
       "      <td>0.394031</td>\n",
       "      <td>0.660456</td>\n",
       "      <td>0.756164</td>\n",
       "      <td>15.947765</td>\n",
       "      <td>...</td>\n",
       "      <td>15.704053</td>\n",
       "      <td>11.436133</td>\n",
       "      <td>19.904397</td>\n",
       "      <td>21.664004</td>\n",
       "      <td>21.289135</td>\n",
       "      <td>17.695349</td>\n",
       "      <td>16.906900</td>\n",
       "      <td>16.502864</td>\n",
       "      <td>17.034669</td>\n",
       "      <td>17.955119</td>\n",
       "    </tr>\n",
       "    <tr>\n",
       "      <th>min</th>\n",
       "      <td>0.000000</td>\n",
       "      <td>16.000000</td>\n",
       "      <td>16.000000</td>\n",
       "      <td>46.000000</td>\n",
       "      <td>48.000000</td>\n",
       "      <td>731.000000</td>\n",
       "      <td>1.000000</td>\n",
       "      <td>1.000000</td>\n",
       "      <td>1.000000</td>\n",
       "      <td>1.000000</td>\n",
       "      <td>...</td>\n",
       "      <td>5.000000</td>\n",
       "      <td>3.000000</td>\n",
       "      <td>3.000000</td>\n",
       "      <td>2.000000</td>\n",
       "      <td>3.000000</td>\n",
       "      <td>1.000000</td>\n",
       "      <td>1.000000</td>\n",
       "      <td>1.000000</td>\n",
       "      <td>1.000000</td>\n",
       "      <td>1.000000</td>\n",
       "    </tr>\n",
       "    <tr>\n",
       "      <th>25%</th>\n",
       "      <td>4551.500000</td>\n",
       "      <td>200315.500000</td>\n",
       "      <td>21.000000</td>\n",
       "      <td>62.000000</td>\n",
       "      <td>67.000000</td>\n",
       "      <td>1457.000000</td>\n",
       "      <td>1.000000</td>\n",
       "      <td>3.000000</td>\n",
       "      <td>2.000000</td>\n",
       "      <td>8.000000</td>\n",
       "      <td>...</td>\n",
       "      <td>39.000000</td>\n",
       "      <td>51.000000</td>\n",
       "      <td>30.000000</td>\n",
       "      <td>27.000000</td>\n",
       "      <td>24.000000</td>\n",
       "      <td>8.000000</td>\n",
       "      <td>8.000000</td>\n",
       "      <td>8.000000</td>\n",
       "      <td>8.000000</td>\n",
       "      <td>8.000000</td>\n",
       "    </tr>\n",
       "    <tr>\n",
       "      <th>50%</th>\n",
       "      <td>9103.000000</td>\n",
       "      <td>221759.000000</td>\n",
       "      <td>25.000000</td>\n",
       "      <td>66.000000</td>\n",
       "      <td>71.000000</td>\n",
       "      <td>1635.000000</td>\n",
       "      <td>1.000000</td>\n",
       "      <td>3.000000</td>\n",
       "      <td>2.000000</td>\n",
       "      <td>17.000000</td>\n",
       "      <td>...</td>\n",
       "      <td>49.000000</td>\n",
       "      <td>60.000000</td>\n",
       "      <td>53.000000</td>\n",
       "      <td>55.000000</td>\n",
       "      <td>52.000000</td>\n",
       "      <td>11.000000</td>\n",
       "      <td>11.000000</td>\n",
       "      <td>11.000000</td>\n",
       "      <td>11.000000</td>\n",
       "      <td>11.000000</td>\n",
       "    </tr>\n",
       "    <tr>\n",
       "      <th>75%</th>\n",
       "      <td>13654.500000</td>\n",
       "      <td>236529.500000</td>\n",
       "      <td>28.000000</td>\n",
       "      <td>71.000000</td>\n",
       "      <td>75.000000</td>\n",
       "      <td>1787.000000</td>\n",
       "      <td>1.000000</td>\n",
       "      <td>3.000000</td>\n",
       "      <td>3.000000</td>\n",
       "      <td>26.000000</td>\n",
       "      <td>...</td>\n",
       "      <td>60.000000</td>\n",
       "      <td>67.000000</td>\n",
       "      <td>64.000000</td>\n",
       "      <td>66.000000</td>\n",
       "      <td>64.000000</td>\n",
       "      <td>14.000000</td>\n",
       "      <td>14.000000</td>\n",
       "      <td>14.000000</td>\n",
       "      <td>14.000000</td>\n",
       "      <td>14.000000</td>\n",
       "    </tr>\n",
       "    <tr>\n",
       "      <th>max</th>\n",
       "      <td>18206.000000</td>\n",
       "      <td>246620.000000</td>\n",
       "      <td>45.000000</td>\n",
       "      <td>94.000000</td>\n",
       "      <td>95.000000</td>\n",
       "      <td>2346.000000</td>\n",
       "      <td>5.000000</td>\n",
       "      <td>5.000000</td>\n",
       "      <td>5.000000</td>\n",
       "      <td>99.000000</td>\n",
       "      <td>...</td>\n",
       "      <td>92.000000</td>\n",
       "      <td>96.000000</td>\n",
       "      <td>94.000000</td>\n",
       "      <td>93.000000</td>\n",
       "      <td>91.000000</td>\n",
       "      <td>90.000000</td>\n",
       "      <td>92.000000</td>\n",
       "      <td>91.000000</td>\n",
       "      <td>90.000000</td>\n",
       "      <td>94.000000</td>\n",
       "    </tr>\n",
       "  </tbody>\n",
       "</table>\n",
       "<p>8 rows × 44 columns</p>\n",
       "</div>"
      ],
      "text/plain": [
       "         Unnamed: 0             ID           Age       Overall     Potential  \\\n",
       "count  18207.000000   18207.000000  18207.000000  18207.000000  18207.000000   \n",
       "mean    9103.000000  214298.338606     25.122206     66.238699     71.307299   \n",
       "std     5256.052511   29965.244204      4.669943      6.908930      6.136496   \n",
       "min        0.000000      16.000000     16.000000     46.000000     48.000000   \n",
       "25%     4551.500000  200315.500000     21.000000     62.000000     67.000000   \n",
       "50%     9103.000000  221759.000000     25.000000     66.000000     71.000000   \n",
       "75%    13654.500000  236529.500000     28.000000     71.000000     75.000000   \n",
       "max    18206.000000  246620.000000     45.000000     94.000000     95.000000   \n",
       "\n",
       "            Special  International Reputation     Weak Foot   Skill Moves  \\\n",
       "count  18207.000000              18159.000000  18159.000000  18159.000000   \n",
       "mean    1597.809908                  1.113222      2.947299      2.361308   \n",
       "std      272.586016                  0.394031      0.660456      0.756164   \n",
       "min      731.000000                  1.000000      1.000000      1.000000   \n",
       "25%     1457.000000                  1.000000      3.000000      2.000000   \n",
       "50%     1635.000000                  1.000000      3.000000      2.000000   \n",
       "75%     1787.000000                  1.000000      3.000000      3.000000   \n",
       "max     2346.000000                  5.000000      5.000000      5.000000   \n",
       "\n",
       "       Jersey Number  ...     Penalties     Composure       Marking  \\\n",
       "count   18147.000000  ...  18159.000000  18159.000000  18159.000000   \n",
       "mean       19.546096  ...     48.548598     58.648274     47.281623   \n",
       "std        15.947765  ...     15.704053     11.436133     19.904397   \n",
       "min         1.000000  ...      5.000000      3.000000      3.000000   \n",
       "25%         8.000000  ...     39.000000     51.000000     30.000000   \n",
       "50%        17.000000  ...     49.000000     60.000000     53.000000   \n",
       "75%        26.000000  ...     60.000000     67.000000     64.000000   \n",
       "max        99.000000  ...     92.000000     96.000000     94.000000   \n",
       "\n",
       "       StandingTackle  SlidingTackle      GKDiving    GKHandling  \\\n",
       "count    18159.000000   18159.000000  18159.000000  18159.000000   \n",
       "mean        47.697836      45.661435     16.616223     16.391596   \n",
       "std         21.664004      21.289135     17.695349     16.906900   \n",
       "min          2.000000       3.000000      1.000000      1.000000   \n",
       "25%         27.000000      24.000000      8.000000      8.000000   \n",
       "50%         55.000000      52.000000     11.000000     11.000000   \n",
       "75%         66.000000      64.000000     14.000000     14.000000   \n",
       "max         93.000000      91.000000     90.000000     92.000000   \n",
       "\n",
       "          GKKicking  GKPositioning    GKReflexes  \n",
       "count  18159.000000   18159.000000  18159.000000  \n",
       "mean      16.232061      16.388898     16.710887  \n",
       "std       16.502864      17.034669     17.955119  \n",
       "min        1.000000       1.000000      1.000000  \n",
       "25%        8.000000       8.000000      8.000000  \n",
       "50%       11.000000      11.000000     11.000000  \n",
       "75%       14.000000      14.000000     14.000000  \n",
       "max       91.000000      90.000000     94.000000  \n",
       "\n",
       "[8 rows x 44 columns]"
      ]
     },
     "execution_count": 19,
     "metadata": {},
     "output_type": "execute_result"
    }
   ],
   "source": [
    "data3.describe()"
   ]
  },
  {
   "cell_type": "code",
   "execution_count": 13,
   "metadata": {},
   "outputs": [
    {
     "data": {
      "text/plain": [
       "76984"
      ]
     },
     "execution_count": 13,
     "metadata": {},
     "output_type": "execute_result"
    }
   ],
   "source": [
    "data3.isnull().sum()"
   ]
  },
  {
   "cell_type": "code",
   "execution_count": 21,
   "metadata": {},
   "outputs": [
    {
     "data": {
      "image/png": "[encoded data removed]",
      "text/plain": [
       "<Figure size 640x480 with 1 Axes>"
      ]
     },
     "metadata": {},
     "output_type": "display_data"
    }
   ],
   "source": [
    "# Heatmap of missing values\n",
    "sns.heatmap(data3.isnull(), cbar=False, cmap='viridis')\n",
    "plt.title('Missing Values Heatmap')\n",
    "plt.show()"
   ]
  },
  {
   "cell_type": "code",
   "execution_count": 34,
   "metadata": {},
   "outputs": [
    {
     "data": {
      "text/html": [
       "<div>\n",
       "<style scoped>\n",
       "    .dataframe tbody tr th:only-of-type {\n",
       "        vertical-align: middle;\n",
       "    }\n",
       "\n",
       "    .dataframe tbody tr th {\n",
       "        vertical-align: top;\n",
       "    }\n",
       "\n",
       "    .dataframe thead th {\n",
       "        text-align: right;\n",
       "    }\n",
       "</style>\n",
       "<table border=\"1\" class=\"dataframe\">\n",
       "  <thead>\n",
       "    <tr style=\"text-align: right;\">\n",
       "      <th></th>\n",
       "      <th>Number of missing values</th>\n",
       "      <th>Percentage of missing values</th>\n",
       "    </tr>\n",
       "  </thead>\n",
       "  <tbody>\n",
       "    <tr>\n",
       "      <th>Loaned From</th>\n",
       "      <td>16943</td>\n",
       "      <td>93.057615</td>\n",
       "    </tr>\n",
       "    <tr>\n",
       "      <th>LWB</th>\n",
       "      <td>2085</td>\n",
       "      <td>11.451639</td>\n",
       "    </tr>\n",
       "    <tr>\n",
       "      <th>LCM</th>\n",
       "      <td>2085</td>\n",
       "      <td>11.451639</td>\n",
       "    </tr>\n",
       "    <tr>\n",
       "      <th>RS</th>\n",
       "      <td>2085</td>\n",
       "      <td>11.451639</td>\n",
       "    </tr>\n",
       "    <tr>\n",
       "      <th>LW</th>\n",
       "      <td>2085</td>\n",
       "      <td>11.451639</td>\n",
       "    </tr>\n",
       "    <tr>\n",
       "      <th>...</th>\n",
       "      <td>...</td>\n",
       "      <td>...</td>\n",
       "    </tr>\n",
       "    <tr>\n",
       "      <th>Nationality</th>\n",
       "      <td>0</td>\n",
       "      <td>0.000000</td>\n",
       "    </tr>\n",
       "    <tr>\n",
       "      <th>Photo</th>\n",
       "      <td>0</td>\n",
       "      <td>0.000000</td>\n",
       "    </tr>\n",
       "    <tr>\n",
       "      <th>Age</th>\n",
       "      <td>0</td>\n",
       "      <td>0.000000</td>\n",
       "    </tr>\n",
       "    <tr>\n",
       "      <th>Name</th>\n",
       "      <td>0</td>\n",
       "      <td>0.000000</td>\n",
       "    </tr>\n",
       "    <tr>\n",
       "      <th>Unnamed: 0</th>\n",
       "      <td>0</td>\n",
       "      <td>0.000000</td>\n",
       "    </tr>\n",
       "  </tbody>\n",
       "</table>\n",
       "<p>89 rows × 2 columns</p>\n",
       "</div>"
      ],
      "text/plain": [
       "             Number of missing values  Percentage of missing values\n",
       "Loaned From                     16943                     93.057615\n",
       "LWB                              2085                     11.451639\n",
       "LCM                              2085                     11.451639\n",
       "RS                               2085                     11.451639\n",
       "LW                               2085                     11.451639\n",
       "...                               ...                           ...\n",
       "Nationality                         0                      0.000000\n",
       "Photo                               0                      0.000000\n",
       "Age                                 0                      0.000000\n",
       "Name                                0                      0.000000\n",
       "Unnamed: 0                          0                      0.000000\n",
       "\n",
       "[89 rows x 2 columns]"
      ]
     },
     "execution_count": 34,
     "metadata": {},
     "output_type": "execute_result"
    }
   ],
   "source": [
    "x=data3.isnull().sum()\n",
    "y=(data3.isnull().sum()/data3.shape[0])*100\n",
    "z={'Number of missing values':x,'Percentage of missing values':y}\n",
    "df=pd.DataFrame(z,columns=['Number of missing values','Percentage of missing values'])\n",
    "df.sort_values(by='Percentage of missing values',ascending=False)"
   ]
  },
  {
   "cell_type": "code",
   "execution_count": 25,
   "metadata": {},
   "outputs": [
    {
     "data": {
      "text/plain": [
       "Index(['Unnamed: 0', 'ID', 'Name', 'Age', 'Photo', 'Nationality', 'Flag',\n",
       "       'Overall', 'Potential', 'Club', 'Club Logo', 'Value', 'Wage', 'Special',\n",
       "       'Preferred Foot', 'International Reputation', 'Weak Foot',\n",
       "       'Skill Moves', 'Work Rate', 'Body Type', 'Real Face', 'Position',\n",
       "       'Jersey Number', 'Joined', 'Contract Valid Until', 'Height', 'Weight',\n",
       "       'LS', 'ST', 'RS', 'LW', 'LF', 'CF', 'RF', 'RW', 'LAM', 'CAM', 'RAM',\n",
       "       'LM', 'LCM', 'CM', 'RCM', 'RM', 'LWB', 'LDM', 'CDM', 'RDM', 'RWB', 'LB',\n",
       "       'LCB', 'CB', 'RCB', 'RB', 'Crossing', 'Finishing', 'HeadingAccuracy',\n",
       "       'ShortPassing', 'Volleys', 'Dribbling', 'Curve', 'FKAccuracy',\n",
       "       'LongPassing', 'BallControl', 'Acceleration', 'SprintSpeed', 'Agility',\n",
       "       'Reactions', 'Balance', 'ShotPower', 'Jumping', 'Stamina', 'Strength',\n",
       "       'LongShots', 'Aggression', 'Interceptions', 'Positioning', 'Vision',\n",
       "       'Penalties', 'Composure', 'Marking', 'StandingTackle', 'SlidingTackle',\n",
       "       'GKDiving', 'GKHandling', 'GKKicking', 'GKPositioning', 'GKReflexes',\n",
       "       'Release Clause'],\n",
       "      dtype='object')"
      ]
     },
     "execution_count": 25,
     "metadata": {},
     "output_type": "execute_result"
    }
   ],
   "source": [
    "# Drop columns with very high missing (>90%)\n",
    "data = data3.drop(['Loaned From'], axis=1)  \n",
    "data.columns"
   ]
  },
  {
   "cell_type": "code",
   "execution_count": null,
   "metadata": {},
   "outputs": [],
   "source": []
  },
  {
   "cell_type": "code",
   "execution_count": 26,
   "metadata": {},
   "outputs": [
    {
     "name": "stdout",
     "output_type": "stream",
     "text": [
      "Before dropping rows with >50 NaNs: 18207\n",
      "After dropping: 18159\n"
     ]
    }
   ],
   "source": [
    "# Drop rows with >50 missing values (\n",
    "print(\"Before dropping rows with >50 NaNs:\", data.shape[0])\n",
    "data = data[data.isnull().sum(axis=1) <= 50]\n",
    "print(\"After dropping:\", data.shape[0])"
   ]
  },
  {
   "cell_type": "code",
   "execution_count": 35,
   "metadata": {},
   "outputs": [],
   "source": [
    "# Heatmap of missing values again"
   ]
  },
  {
   "cell_type": "code",
   "execution_count": 30,
   "metadata": {},
   "outputs": [
    {
     "data": {
      "text/plain": [
       "Index(['Club', 'Position', 'Jersey Number', 'Joined', 'Contract Valid Until',\n",
       "       'LS', 'ST', 'RS', 'LW', 'LF', 'CF', 'RF', 'RW', 'LAM', 'CAM', 'RAM',\n",
       "       'LM', 'LCM', 'CM', 'RCM', 'RM', 'LWB', 'LDM', 'CDM', 'RDM', 'RWB', 'LB',\n",
       "       'LCB', 'CB', 'RCB', 'RB', 'Release Clause'],\n",
       "      dtype='object')"
      ]
     },
     "execution_count": 30,
     "metadata": {},
     "output_type": "execute_result"
    }
   ],
   "source": [
    "# Identify columns with missing values\n",
    "missing_cols = data.columns[data.isnull().any()]\n",
    "missing_cols"
   ]
  },
  {
   "cell_type": "code",
   "execution_count": 36,
   "metadata": {},
   "outputs": [
    {
     "data": {
      "text/plain": [
       "Club                     object\n",
       "Position                 object\n",
       "Jersey Number           float64\n",
       "Joined                   object\n",
       "Contract Valid Until     object\n",
       "LS                       object\n",
       "ST                       object\n",
       "RS                       object\n",
       "LW                       object\n",
       "LF                       object\n",
       "CF                       object\n",
       "RF                       object\n",
       "RW                       object\n",
       "LAM                      object\n",
       "CAM                      object\n",
       "RAM                      object\n",
       "LM                       object\n",
       "LCM                      object\n",
       "CM                       object\n",
       "RCM                      object\n",
       "RM                       object\n",
       "LWB                      object\n",
       "LDM                      object\n",
       "CDM                      object\n",
       "RDM                      object\n",
       "RWB                      object\n",
       "LB                       object\n",
       "LCB                      object\n",
       "CB                       object\n",
       "RCB                      object\n",
       "RB                       object\n",
       "Release Clause           object\n",
       "dtype: object"
      ]
     },
     "execution_count": 36,
     "metadata": {},
     "output_type": "execute_result"
    }
   ],
   "source": [
    "data.dtypes[data.isnull().any()]"
   ]
  },
  {
   "cell_type": "code",
   "execution_count": 37,
   "metadata": {},
   "outputs": [
    {
     "name": "stdout",
     "output_type": "stream",
     "text": [
      "Filled Club with mode: AS Monaco\n",
      "Filled Position with mode: ST\n",
      "Filled Joined with mode: Jul 1, 2018\n",
      "Filled Contract Valid Until with mode: 2019\n"
     ]
    }
   ],
   "source": [
    "# Technique 1: Mode for categorical/object columns\n",
    "categorical_cols = ['Club', 'Position', 'Joined', 'Contract Valid Until']\n",
    "for col in categorical_cols:\n",
    "    if col in missing_cols:\n",
    "        data[col] = data[col].fillna(data[col].mode()[0])\n",
    "        print(f\"Filled {col} with mode: {data[col].mode()[0]}\")"
   ]
  },
  {
   "cell_type": "code",
   "execution_count": 38,
   "metadata": {},
   "outputs": [],
   "source": [
    "# Special handling for 'Jersey Number' (keep as float, fill with -1 )\n",
    "if 'Jersey Number' in missing_cols:\n",
    "    data['Jersey Number'] = data['Jersey Number'].fillna(-1)  # Sentinel value"
   ]
  },
  {
   "cell_type": "code",
   "execution_count": 39,
   "metadata": {},
   "outputs": [
    {
     "data": {
      "text/plain": [
       "0        10.0\n",
       "1         7.0\n",
       "2        10.0\n",
       "3         1.0\n",
       "4         7.0\n",
       "         ... \n",
       "18202    22.0\n",
       "18203    21.0\n",
       "18204    33.0\n",
       "18205    34.0\n",
       "18206    33.0\n",
       "Name: Jersey Number, Length: 18159, dtype: float64"
      ]
     },
     "execution_count": 39,
     "metadata": {},
     "output_type": "execute_result"
    }
   ],
   "source": [
    "data['Jersey Number']"
   ]
  },
  {
   "cell_type": "code",
   "execution_count": 40,
   "metadata": {},
   "outputs": [
    {
     "data": {
      "text/html": [
       "<div>\n",
       "<style scoped>\n",
       "    .dataframe tbody tr th:only-of-type {\n",
       "        vertical-align: middle;\n",
       "    }\n",
       "\n",
       "    .dataframe tbody tr th {\n",
       "        vertical-align: top;\n",
       "    }\n",
       "\n",
       "    .dataframe thead th {\n",
       "        text-align: right;\n",
       "    }\n",
       "</style>\n",
       "<table border=\"1\" class=\"dataframe\">\n",
       "  <thead>\n",
       "    <tr style=\"text-align: right;\">\n",
       "      <th></th>\n",
       "      <th>LS</th>\n",
       "      <th>ST</th>\n",
       "      <th>RS</th>\n",
       "      <th>LW</th>\n",
       "    </tr>\n",
       "  </thead>\n",
       "  <tbody>\n",
       "    <tr>\n",
       "      <th>0</th>\n",
       "      <td>88+2</td>\n",
       "      <td>88+2</td>\n",
       "      <td>88+2</td>\n",
       "      <td>92+2</td>\n",
       "    </tr>\n",
       "    <tr>\n",
       "      <th>1</th>\n",
       "      <td>91+3</td>\n",
       "      <td>91+3</td>\n",
       "      <td>91+3</td>\n",
       "      <td>89+3</td>\n",
       "    </tr>\n",
       "    <tr>\n",
       "      <th>2</th>\n",
       "      <td>84+3</td>\n",
       "      <td>84+3</td>\n",
       "      <td>84+3</td>\n",
       "      <td>89+3</td>\n",
       "    </tr>\n",
       "    <tr>\n",
       "      <th>3</th>\n",
       "      <td>NaN</td>\n",
       "      <td>NaN</td>\n",
       "      <td>NaN</td>\n",
       "      <td>NaN</td>\n",
       "    </tr>\n",
       "    <tr>\n",
       "      <th>4</th>\n",
       "      <td>82+3</td>\n",
       "      <td>82+3</td>\n",
       "      <td>82+3</td>\n",
       "      <td>87+3</td>\n",
       "    </tr>\n",
       "    <tr>\n",
       "      <th>...</th>\n",
       "      <td>...</td>\n",
       "      <td>...</td>\n",
       "      <td>...</td>\n",
       "      <td>...</td>\n",
       "    </tr>\n",
       "    <tr>\n",
       "      <th>18202</th>\n",
       "      <td>42+2</td>\n",
       "      <td>42+2</td>\n",
       "      <td>42+2</td>\n",
       "      <td>44+2</td>\n",
       "    </tr>\n",
       "    <tr>\n",
       "      <th>18203</th>\n",
       "      <td>45+2</td>\n",
       "      <td>45+2</td>\n",
       "      <td>45+2</td>\n",
       "      <td>39+2</td>\n",
       "    </tr>\n",
       "    <tr>\n",
       "      <th>18204</th>\n",
       "      <td>45+2</td>\n",
       "      <td>45+2</td>\n",
       "      <td>45+2</td>\n",
       "      <td>45+2</td>\n",
       "    </tr>\n",
       "    <tr>\n",
       "      <th>18205</th>\n",
       "      <td>47+2</td>\n",
       "      <td>47+2</td>\n",
       "      <td>47+2</td>\n",
       "      <td>47+2</td>\n",
       "    </tr>\n",
       "    <tr>\n",
       "      <th>18206</th>\n",
       "      <td>43+2</td>\n",
       "      <td>43+2</td>\n",
       "      <td>43+2</td>\n",
       "      <td>45+2</td>\n",
       "    </tr>\n",
       "  </tbody>\n",
       "</table>\n",
       "<p>18159 rows × 4 columns</p>\n",
       "</div>"
      ],
      "text/plain": [
       "         LS    ST    RS    LW\n",
       "0      88+2  88+2  88+2  92+2\n",
       "1      91+3  91+3  91+3  89+3\n",
       "2      84+3  84+3  84+3  89+3\n",
       "3       NaN   NaN   NaN   NaN\n",
       "4      82+3  82+3  82+3  87+3\n",
       "...     ...   ...   ...   ...\n",
       "18202  42+2  42+2  42+2  44+2\n",
       "18203  45+2  45+2  45+2  39+2\n",
       "18204  45+2  45+2  45+2  45+2\n",
       "18205  47+2  47+2  47+2  47+2\n",
       "18206  43+2  43+2  43+2  45+2\n",
       "\n",
       "[18159 rows x 4 columns]"
      ]
     },
     "execution_count": 40,
     "metadata": {},
     "output_type": "execute_result"
    }
   ],
   "source": [
    "data[['LS', 'ST', 'RS', 'LW']]"
   ]
  },
  {
   "cell_type": "code",
   "execution_count": 43,
   "metadata": {},
   "outputs": [],
   "source": [
    "# Technique 2: Fill with 0 for position ratings\n",
    "position_ratings = ['LS', 'ST', 'RS', 'LW', 'LF', 'CF', 'RF', 'RW', 'LAM', 'CAM', 'RAM', 'LM', 'LCM', 'CM', 'RCM', 'RM',\n",
    "                    'LWB', 'LDM', 'CDM', 'RDM', 'RWB', 'LB', 'LCB', 'CB', 'RCB', 'RB']\n",
    "for col in position_ratings:\n",
    "    if col in missing_cols:\n",
    "        data[col] = data[col].fillna('0+0')  # Improved: Keep as string format for consistency"
   ]
  },
  {
   "cell_type": "code",
   "execution_count": 44,
   "metadata": {},
   "outputs": [
    {
     "data": {
      "text/plain": [
       "0         59+2\n",
       "1         61+3\n",
       "2         60+3\n",
       "3        0 + 0\n",
       "4         73+3\n",
       "         ...  \n",
       "18202     45+2\n",
       "18203     29+2\n",
       "18204     33+2\n",
       "18205     35+2\n",
       "18206     46+2\n",
       "Name: RB, Length: 18159, dtype: object"
      ]
     },
     "execution_count": 44,
     "metadata": {},
     "output_type": "execute_result"
    }
   ],
   "source": [
    "data[col]"
   ]
  },
  {
   "cell_type": "code",
   "execution_count": 32,
   "metadata": {},
   "outputs": [
    {
     "data": {
      "text/plain": [
       "0        €226.5M\n",
       "1        €127.1M\n",
       "2        €228.1M\n",
       "3        €138.6M\n",
       "4        €196.4M\n",
       "          ...   \n",
       "18202      €143K\n",
       "18203      €113K\n",
       "18204      €165K\n",
       "18205      €143K\n",
       "18206      €165K\n",
       "Name: Release Clause, Length: 18159, dtype: object"
      ]
     },
     "execution_count": 32,
     "metadata": {},
     "output_type": "execute_result"
    }
   ],
   "source": [
    "# Technique 3: Convert currency columns to numeric and impute with median (better than mode)\n",
    "data['Release Clause']"
   ]
  },
  {
   "cell_type": "code",
   "execution_count": 33,
   "metadata": {},
   "outputs": [
    {
     "name": "stdout",
     "output_type": "stream",
     "text": [
      "Filled 'Release Clause' with median after conversion.\n"
     ]
    }
   ],
   "source": [
    "def currency_to_num(value):\n",
    "    if isinstance(value, str):\n",
    "        value = value.replace('€', '').replace('K', 'e3').replace('M', 'e6')\n",
    "        return float(value)\n",
    "    return value\n",
    "\n",
    "if 'Release Clause' in missing_cols:\n",
    "    data['Release Clause'] = data['Release Clause'].apply(currency_to_num)  # Convert to numeric\n",
    "    data['Release Clause'] = data['Release Clause'].fillna(data['Release Clause'].median())  # Median is robust to outliers\n",
    "    print(\"Filled 'Release Clause' with median after conversion.\")"
   ]
  },
  {
   "cell_type": "code",
   "execution_count": 34,
   "metadata": {},
   "outputs": [
    {
     "data": {
      "text/plain": [
       "0        226500000.0\n",
       "1        127100000.0\n",
       "2        228100000.0\n",
       "3        138600000.0\n",
       "4        196400000.0\n",
       "            ...     \n",
       "18202       143000.0\n",
       "18203       113000.0\n",
       "18204       165000.0\n",
       "18205       143000.0\n",
       "18206       165000.0\n",
       "Name: Release Clause, Length: 18159, dtype: float64"
      ]
     },
     "execution_count": 34,
     "metadata": {},
     "output_type": "execute_result"
    }
   ],
   "source": [
    "data['Release Clause']"
   ]
  },
  {
   "cell_type": "code",
   "execution_count": 57,
   "metadata": {},
   "outputs": [
    {
     "name": "stdout",
     "output_type": "stream",
     "text": [
      "Index(['Unnamed: 0', 'ID', 'Age', 'Overall', 'Potential', 'Special',\n",
      "       'International Reputation', 'Weak Foot', 'Skill Moves', 'Jersey Number',\n",
      "       'Crossing', 'Finishing', 'HeadingAccuracy', 'ShortPassing', 'Volleys',\n",
      "       'Dribbling', 'Curve', 'FKAccuracy', 'LongPassing', 'BallControl',\n",
      "       'Acceleration', 'SprintSpeed', 'Agility', 'Reactions', 'Balance',\n",
      "       'ShotPower', 'Jumping', 'Stamina', 'Strength', 'LongShots',\n",
      "       'Aggression', 'Interceptions', 'Positioning', 'Vision', 'Penalties',\n",
      "       'Composure', 'Marking', 'StandingTackle', 'SlidingTackle', 'GKDiving',\n",
      "       'GKHandling', 'GKKicking', 'GKPositioning', 'GKReflexes',\n",
      "       'Release Clause'],\n",
      "      dtype='object')\n"
     ]
    }
   ],
   "source": [
    "#Technique 4: Mean/Median for numerical columns \n",
    "numerical_cols = data.select_dtypes(include=['float64', 'int64']).columns\n",
    "print(numerical_cols)\n",
    "for col in numerical_cols:\n",
    "    if data[col].isnull().sum() > 0:\n",
    "        data[col] = data[col].fillna(data[col].median())  # Median for skewed data; use mean() for normal dist"
   ]
  },
  {
   "cell_type": "code",
   "execution_count": 38,
   "metadata": {},
   "outputs": [
    {
     "data": {
      "text/plain": [
       "0"
      ]
     },
     "execution_count": 38,
     "metadata": {},
     "output_type": "execute_result"
    }
   ],
   "source": [
    "data[col].isnull().sum()"
   ]
  },
  {
   "cell_type": "code",
   "execution_count": 39,
   "metadata": {},
   "outputs": [
    {
     "data": {
      "text/plain": [
       "0         Jul 1, 2004\n",
       "1        Jul 10, 2018\n",
       "2         Aug 3, 2017\n",
       "3         Jul 1, 2011\n",
       "4        Aug 30, 2015\n",
       "             ...     \n",
       "18202     May 3, 2017\n",
       "18203    Mar 19, 2018\n",
       "18204     Jul 1, 2017\n",
       "18205    Apr 24, 2018\n",
       "18206    Oct 30, 2018\n",
       "Name: Joined, Length: 18159, dtype: object"
      ]
     },
     "execution_count": 39,
     "metadata": {},
     "output_type": "execute_result"
    }
   ],
   "source": [
    "# Technique 5: Forward/Backward Fill (useful if data is sorted, e.g., by 'Age' or date)\n",
    "data['Joined']"
   ]
  },
  {
   "cell_type": "code",
   "execution_count": 46,
   "metadata": {},
   "outputs": [
    {
     "data": {
      "text/plain": [
       "0"
      ]
     },
     "execution_count": 46,
     "metadata": {},
     "output_type": "execute_result"
    }
   ],
   "source": [
    "data['Joined'].isnull().sum()"
   ]
  },
  {
   "cell_type": "code",
   "execution_count": 48,
   "metadata": {},
   "outputs": [],
   "source": [
    "data = data.sort_values('Joined')  # Assume 'Joined' is date-ordered\n",
    "  # Forward then backward fill"
   ]
  },
  {
   "cell_type": "code",
   "execution_count": 49,
   "metadata": {},
   "outputs": [
    {
     "name": "stderr",
     "output_type": "stream",
     "text": [
      "C:\\Users\\ASIM\\AppData\\Local\\Temp\\ipykernel_552\\917065080.py:1: FutureWarning: DataFrame.fillna with 'method' is deprecated and will raise in a future version. Use obj.ffill() or obj.bfill() instead.\n",
      "  data = data.fillna(method='ffill')\n"
     ]
    }
   ],
   "source": [
    "data = data.fillna(method='ffill')"
   ]
  },
  {
   "cell_type": "code",
   "execution_count": 47,
   "metadata": {},
   "outputs": [],
   "source": [
    "data = data.fillna('bfill')"
   ]
  },
  {
   "cell_type": "code",
   "execution_count": 59,
   "metadata": {},
   "outputs": [],
   "source": [
    "# Technique 7: KNN Imputer (Learning-based or ml based, for numerical data)"
   ]
  },
  {
   "cell_type": "code",
   "execution_count": 60,
   "metadata": {},
   "outputs": [
    {
     "name": "stdout",
     "output_type": "stream",
     "text": [
      "Total remaining NaNs: 0\n"
     ]
    }
   ],
   "source": [
    "# Final check\n",
    "print(\"Total remaining NaNs:\", data.isnull().sum().sum())"
   ]
  },
  {
   "cell_type": "code",
   "execution_count": null,
   "metadata": {},
   "outputs": [],
   "source": []
  }
 ],
 "metadata": {
  "kernelspec": {
   "display_name": "Python 3 (ipykernel)",
   "language": "python",
   "name": "python3"
  },
  "language_info": {
   "codemirror_mode": {
    "name": "ipython",
    "version": 3
   },
   "file_extension": ".py",
   "mimetype": "text/x-python",
   "name": "python",
   "nbconvert_exporter": "python",
   "pygments_lexer": "ipython3",
   "version": "3.11.7"
  }
 },
 "nbformat": 4,
 "nbformat_minor": 4
}
